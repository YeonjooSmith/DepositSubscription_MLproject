{
 "cells": [
  {
   "cell_type": "markdown",
   "metadata": {},
   "source": [
    "# Data Description"
   ]
  },
  {
   "cell_type": "markdown",
   "metadata": {},
   "source": [
    "http://archive.ics.uci.edu/ml/datasets/Bank+Marketing#\n",
    "Attribute Information:\n",
    "\n",
    "Input variables:\n",
    "**bank client data:**\n",
    "1. age (numeric)\n",
    "\n",
    "2. job : type of job (categorical: 'admin.','blue-collar','entrepreneur','housemaid','management','retired','self-employed','services','student','technician','unemployed','unknown')\n",
    "3. marital : marital status (categorical: 'divorced','married','single','unknown'; note: 'divorced' means divorced or widowed)\n",
    "4. education (categorical: 'basic.4y','basic.6y','basic.9y','high.school','illiterate','professional.course','university.degree','unknown')\n",
    "5. default: has credit in default? (categorical: 'no','yes','unknown')\n",
    "6. housing: has housing loan? (categorical: 'no','yes','unknown')\n",
    "7. loan: has personal loan? (categorical: 'no','yes','unknown')\n",
    "\n",
    "**related with the last contact of the current campaign:**\n",
    "\n",
    "8. contact: contact communication type (categorical: 'cellular','telephone')\n",
    "9. month: last contact month of year (categorical: 'jan', 'feb', 'mar', ..., 'nov', 'dec')\n",
    "10. day_of_week: last contact day of the week (categorical: 'mon','tue','wed','thu','fri')\n",
    "11. duration: last contact duration, in seconds (numeric). Important note: this attribute highly affects the output target (e.g., if duration=0 then y='no'). Yet, the duration is not known before a call is performed. Also, after the end of the call y is obviously known. Thus, this input should only be included for benchmark purposes and should be discarded if the intention is to have a realistic predictive model.\n",
    "\n",
    "**other attributes:**\n",
    "12. campaign: number of contacts performed during this campaign and for this client (numeric, includes last contact)\n",
    "13. pdays: number of days that passed by after the client was last contacted from a previous campaign (numeric; 999 means client was not previously contacted)\n",
    "14. previous: number of contacts performed before this campaign and for this client (numeric)\n",
    "15. poutcome: outcome of the previous marketing campaign (categorical: 'failure','nonexistent','success')\n",
    "\n",
    "**social and economic context attributes**\n",
    "16. emp.var.rate: employment variation rate - quarterly indicator (numeric)\n",
    "\n",
    "17. cons.price.idx: consumer price index - monthly indicator (numeric)\n",
    ">The Consumer Price Index measures the average change in prices over time that consumers pay for a basket of goods and services.It is based upon the index average for the period from 1982 through 1984 (inclusive) which was set to 100. So a CPI reading of 100 means that there has been zero inflation since 1984 while readings of 175 and 225 would indicate a rise in the inflation level of 75% and 125% respectively. The quoted inflation rate is actually the change in the index from the prior period, whether it is monthly, quarterly or yearly.[More information about CPI](https://www.investopedia.com/terms/c/consumerpriceindex.asp)\n",
    "18. cons.conf.idx: consumer confidence index - monthly indicator (numeric)\n",
    ">The Consumer Confidence Index (CCI) is based on the premise that if consumers are optimistic, they tend to purchase more goods and services, which should, inevitably, stimulate the whole economy.The CCI is released on the last Tuesday of every month and is widely regarded as the most credible gauge of U.S. consumer confidence.[More information about CCI](https://www.investopedia.com/terms/c/cci.asp)\n",
    "\n",
    "19. euribor3m: euribor 3 month rate - daily indicator (numeric)\n",
    ">The 3 month Euribor interest rate is the interest rate at which a selection of European banks lend one another funds denominated in euros whereby the loans have a maturity of 3 months.The Euribor interest rates are the most important European interbank interest rates.\n",
    "20. nr.employed: number of employees - quarterly indicator (numeric)\n",
    "\n",
    "\n",
    "**Output variable (desired target):**\n",
    "21. y - has the client subscribed a term deposit? (binary: 'yes','no')\n",
    "\n"
   ]
  },
  {
   "cell_type": "markdown",
   "metadata": {},
   "source": [
    "# Importing libraries"
   ]
  },
  {
   "cell_type": "code",
   "execution_count": 1,
   "metadata": {
    "ExecuteTime": {
     "end_time": "2020-03-28T20:49:38.959225Z",
     "start_time": "2020-03-28T20:49:08.560979Z"
    }
   },
   "outputs": [],
   "source": [
    "import pandas as pd\n",
    "import numpy as np\n",
    "import matplotlib.pyplot as plt\n",
    "%matplotlib inline\n",
    "from sklearn import preprocessing\n",
    "import seaborn as sns\n",
    "plt.style.use('seaborn-dark')\n",
    "sns.set_style('darkgrid')\n",
    "\n",
    "import pickle\n",
    "#normalizing dataset\n",
    "from sklearn.preprocessing import StandardScaler\n",
    "#creating training and testing sets\n",
    "from sklearn.model_selection import train_test_split\n",
    "#logistic regression\n",
    "from sklearn.linear_model import LogisticRegression\n",
    "\n",
    "#KNN\n",
    "from sklearn.neighbors import KNeighborsClassifier\n",
    "\n",
    "#Evaluating models\n",
    "from sklearn.metrics import precision_score, recall_score, accuracy_score, f1_score, confusion_matrix\n",
    "\n",
    "#PCA\n",
    "from sklearn.decomposition import PCA\n",
    "\n",
    "#RandomForest\n",
    "np.random.seed(123)\n",
    "from sklearn.tree import DecisionTreeClassifier\n",
    "from sklearn.ensemble import RandomForestClassifier\n",
    "#grid search cross validation\n",
    "from sklearn.model_selection import GridSearchCV, cross_val_score"
   ]
  },
  {
   "cell_type": "markdown",
   "metadata": {},
   "source": [
    "# Making a class to organize information"
   ]
  },
  {
   "cell_type": "code",
   "execution_count": 2,
   "metadata": {
    "ExecuteTime": {
     "end_time": "2020-03-28T20:49:38.966150Z",
     "start_time": "2020-03-28T20:49:38.960139Z"
    }
   },
   "outputs": [],
   "source": [
    "class result(object):\n",
    "    def __init__(self, params=None, preds=None):\n",
    "        self.params = params#parameter used, dictionary\n",
    "        self.preds = preds#[train_preds, test_preds]\n",
    "        self.data = None\n",
    "        self.note = None\n",
    "        \n",
    "    def print_metrics(self):\n",
    "        print('Train set\\n')\n",
    "        print(\"Precision Score: {}\".format(precision_score(y_train, self.preds['train_preds'])))\n",
    "        print(\"Recall Score: {}\".format(recall_score(y_train, self.preds['train_preds'])))\n",
    "        print(\"Accuracy Score: {}\".format(accuracy_score(y_train, self.preds['train_preds'])))\n",
    "        print(\"F1 Score: {}\".format(f1_score(y_train, self.preds['train_preds'])))\n",
    "        print('\\n')\n",
    "        \n",
    "        print('Test set\\n')\n",
    "        print(\"Precision Score: {}\".format(precision_score(y_test, self.preds['test_preds'])))\n",
    "        print(\"Recall Score: {}\".format(recall_score(y_test, self.preds['test_preds'])))\n",
    "        print(\"Accuracy Score: {}\".format(accuracy_score(y_test, self.preds['test_preds'])))\n",
    "        print(\"F1 Score: {}\".format(f1_score(y_test, self.preds['test_preds'])))\n",
    "        print('\\n')"
   ]
  },
  {
   "cell_type": "markdown",
   "metadata": {},
   "source": [
    "# Save and load results"
   ]
  },
  {
   "cell_type": "markdown",
   "metadata": {},
   "source": [
    "### Loading the results that saved\n",
    "\n",
    "This section is used when you want to just check the modeling results without running everything. \n",
    "\n",
    "`Results` is the dictionary name that used to save the objects of the `result` class. The keys are the name of the objects. \n",
    "\n",
    "```python\n",
    "\n",
    " Results = {'data_preprocessed':data_preprocessed,\n",
    "            'KNN_optimized':KNN_optimized,\n",
    "            'PCA': PCA,\n",
    "            'KNN_PCA':KNN_PCA,\n",
    "           'data_before_scaled':data_before_scaled}\n",
    "```\n",
    "**The `result` class definition needs to be run first before running following codes to load the pickle file. Otherwise, it will throw an error.**  "
   ]
  },
  {
   "cell_type": "code",
   "execution_count": 3,
   "metadata": {
    "ExecuteTime": {
     "end_time": "2020-03-28T20:49:39.289825Z",
     "start_time": "2020-03-28T20:49:38.967121Z"
    },
    "scrolled": true
   },
   "outputs": [],
   "source": [
    "#Need to execute the class definition above. \n",
    "with open('result.pickle', 'rb') as f:\n",
    "    Results = pickle.load(f)"
   ]
  },
  {
   "cell_type": "code",
   "execution_count": 4,
   "metadata": {
    "ExecuteTime": {
     "end_time": "2020-03-28T20:49:39.295778Z",
     "start_time": "2020-03-28T20:49:39.290826Z"
    },
    "scrolled": true
   },
   "outputs": [
    {
     "data": {
      "text/plain": [
       "dict_keys(['data_preprocessed', 'KNN_optimized', 'PCA', 'KNN_PCA', 'rand_forest_optimized', 'data_before_scaled'])"
      ]
     },
     "execution_count": 4,
     "metadata": {},
     "output_type": "execute_result"
    }
   ],
   "source": [
    "Results.keys()"
   ]
  },
  {
   "cell_type": "markdown",
   "metadata": {},
   "source": [
    "Assign the variable names to the objects saved in the dictionary to be used in the rest of the notebook. "
   ]
  },
  {
   "cell_type": "code",
   "execution_count": 5,
   "metadata": {
    "ExecuteTime": {
     "end_time": "2020-03-28T21:05:15.251161Z",
     "start_time": "2020-03-28T21:05:15.248136Z"
    }
   },
   "outputs": [],
   "source": [
    "KNN_optimized = Results['KNN_optimized']\n",
    "PCA = Results['PCA']\n",
    "KNN_PCA = Results['KNN_PCA']\n",
    "data_preprocessed = Results['data_preprocessed']\n",
    "rand_forest_optimized = Results['rand_forest_optimized']\n",
    "data_before_scaled = Results['data_before_scaled']"
   ]
  },
  {
   "cell_type": "code",
   "execution_count": 6,
   "metadata": {
    "ExecuteTime": {
     "end_time": "2020-03-28T21:05:15.715454Z",
     "start_time": "2020-03-28T21:05:15.711477Z"
    }
   },
   "outputs": [
    {
     "data": {
      "text/plain": [
       "dict_keys(['df', 'features', 'target'])"
      ]
     },
     "execution_count": 6,
     "metadata": {},
     "output_type": "execute_result"
    }
   ],
   "source": [
    "data_before_scaled.data.keys()"
   ]
  },
  {
   "cell_type": "code",
   "execution_count": 7,
   "metadata": {
    "ExecuteTime": {
     "end_time": "2020-03-28T21:05:16.844289Z",
     "start_time": "2020-03-28T21:05:16.841296Z"
    }
   },
   "outputs": [],
   "source": [
    "df = data_before_scaled.data['df']\n",
    "features = data_before_scaled.data['features']\n",
    "target = data_before_scaled.data['target']"
   ]
  },
  {
   "cell_type": "code",
   "execution_count": 8,
   "metadata": {
    "ExecuteTime": {
     "end_time": "2020-03-28T21:05:17.329922Z",
     "start_time": "2020-03-28T21:05:17.326900Z"
    }
   },
   "outputs": [
    {
     "data": {
      "text/plain": [
       "dict_keys(['scaled_X_train', 'scaled_X_test', 'scaled_df_train', 'y_train', 'y_test'])"
      ]
     },
     "execution_count": 8,
     "metadata": {},
     "output_type": "execute_result"
    }
   ],
   "source": [
    "data_preprocessed.data.keys()"
   ]
  },
  {
   "cell_type": "code",
   "execution_count": 9,
   "metadata": {
    "ExecuteTime": {
     "end_time": "2020-03-28T21:05:18.419504Z",
     "start_time": "2020-03-28T21:05:18.415514Z"
    }
   },
   "outputs": [],
   "source": [
    "scaled_X_train = data_preprocessed.data['scaled_X_train']\n",
    "scaled_X_test = data_preprocessed.data['scaled_X_test']\n",
    "y_train = data_preprocessed.data['y_train']\n",
    "y_test = data_preprocessed.data['y_test']\n",
    "scaled_df_train = data_preprocessed.data['scaled_df_train']"
   ]
  },
  {
   "cell_type": "markdown",
   "metadata": {},
   "source": [
    "### Pickle `Result` \n",
    "This section is to save the dictionary consisting of the `result` objects containing the model results. "
   ]
  },
  {
   "cell_type": "code",
   "execution_count": 57,
   "metadata": {
    "ExecuteTime": {
     "end_time": "2020-03-27T17:06:25.112550Z",
     "start_time": "2020-03-27T17:06:25.107564Z"
    }
   },
   "outputs": [
    {
     "data": {
      "text/plain": [
       "dict_keys(['data_preprocessed', 'KNN_optimized', 'PCA', 'KNN_PCA', 'rand_forest_optimized', 'data_before_scaled'])"
      ]
     },
     "execution_count": 57,
     "metadata": {},
     "output_type": "execute_result"
    }
   ],
   "source": [
    "Results.keys()"
   ]
  },
  {
   "cell_type": "code",
   "execution_count": 58,
   "metadata": {
    "ExecuteTime": {
     "end_time": "2020-03-27T17:06:31.149780Z",
     "start_time": "2020-03-27T17:06:31.083967Z"
    }
   },
   "outputs": [],
   "source": [
    "with open('result.pickle','wb') as f:\n",
    "    pickle.dump(Results, f, pickle.HIGHEST_PROTOCOL)"
   ]
  },
  {
   "cell_type": "markdown",
   "metadata": {},
   "source": [
    "# Loading and Preprocessing the Dataset"
   ]
  },
  {
   "cell_type": "markdown",
   "metadata": {},
   "source": [
    "#### Loading the Dataset"
   ]
  },
  {
   "cell_type": "code",
   "execution_count": 11,
   "metadata": {
    "ExecuteTime": {
     "end_time": "2020-03-27T17:04:28.382474Z",
     "start_time": "2020-03-27T17:04:28.291688Z"
    }
   },
   "outputs": [],
   "source": [
    "df = pd.read_csv('bank-additional-full.csv',sep = ';')"
   ]
  },
  {
   "cell_type": "code",
   "execution_count": 12,
   "metadata": {
    "ExecuteTime": {
     "end_time": "2020-03-27T17:04:28.523241Z",
     "start_time": "2020-03-27T17:04:28.501270Z"
    }
   },
   "outputs": [
    {
     "name": "stdout",
     "output_type": "stream",
     "text": [
      "<class 'pandas.core.frame.DataFrame'>\n",
      "RangeIndex: 41188 entries, 0 to 41187\n",
      "Data columns (total 21 columns):\n",
      "age               41188 non-null int64\n",
      "job               41188 non-null object\n",
      "marital           41188 non-null object\n",
      "education         41188 non-null object\n",
      "default           41188 non-null object\n",
      "housing           41188 non-null object\n",
      "loan              41188 non-null object\n",
      "contact           41188 non-null object\n",
      "month             41188 non-null object\n",
      "day_of_week       41188 non-null object\n",
      "duration          41188 non-null int64\n",
      "campaign          41188 non-null int64\n",
      "pdays             41188 non-null int64\n",
      "previous          41188 non-null int64\n",
      "poutcome          41188 non-null object\n",
      "emp.var.rate      41188 non-null float64\n",
      "cons.price.idx    41188 non-null float64\n",
      "cons.conf.idx     41188 non-null float64\n",
      "euribor3m         41188 non-null float64\n",
      "nr.employed       41188 non-null float64\n",
      "y                 41188 non-null object\n",
      "dtypes: float64(5), int64(5), object(11)\n",
      "memory usage: 6.6+ MB\n"
     ]
    }
   ],
   "source": [
    "df.info()"
   ]
  },
  {
   "cell_type": "code",
   "execution_count": 13,
   "metadata": {
    "ExecuteTime": {
     "end_time": "2020-03-27T17:04:28.755510Z",
     "start_time": "2020-03-27T17:04:28.750350Z"
    }
   },
   "outputs": [
    {
     "data": {
      "text/plain": [
       "Index(['age', 'job', 'marital', 'education', 'default', 'housing', 'loan',\n",
       "       'contact', 'month', 'day_of_week', 'duration', 'campaign', 'pdays',\n",
       "       'previous', 'poutcome', 'emp.var.rate', 'cons.price.idx',\n",
       "       'cons.conf.idx', 'euribor3m', 'nr.employed', 'y'],\n",
       "      dtype='object')"
      ]
     },
     "execution_count": 13,
     "metadata": {},
     "output_type": "execute_result"
    }
   ],
   "source": [
    "df.columns"
   ]
  },
  {
   "cell_type": "markdown",
   "metadata": {},
   "source": [
    "Following the data description, we drop `duration`."
   ]
  },
  {
   "cell_type": "code",
   "execution_count": 14,
   "metadata": {
    "ExecuteTime": {
     "end_time": "2020-03-27T17:04:30.364796Z",
     "start_time": "2020-03-27T17:04:30.354824Z"
    }
   },
   "outputs": [],
   "source": [
    "df.drop('duration', axis =1, inplace=True)"
   ]
  },
  {
   "cell_type": "code",
   "execution_count": 15,
   "metadata": {
    "ExecuteTime": {
     "end_time": "2020-03-27T17:04:30.592047Z",
     "start_time": "2020-03-27T17:04:30.588058Z"
    }
   },
   "outputs": [
    {
     "data": {
      "text/plain": [
       "True"
      ]
     },
     "execution_count": 15,
     "metadata": {},
     "output_type": "execute_result"
    }
   ],
   "source": [
    "df.job.dtype =='O'"
   ]
  },
  {
   "cell_type": "markdown",
   "metadata": {},
   "source": [
    "Checking missing values in categorical features"
   ]
  },
  {
   "cell_type": "code",
   "execution_count": 16,
   "metadata": {
    "ExecuteTime": {
     "end_time": "2020-03-27T17:04:32.173790Z",
     "start_time": "2020-03-27T17:04:32.131902Z"
    },
    "scrolled": true
   },
   "outputs": [
    {
     "name": "stdout",
     "output_type": "stream",
     "text": [
      "job\n",
      "admin.           10422\n",
      "blue-collar       9254\n",
      "technician        6743\n",
      "services          3969\n",
      "management        2924\n",
      "retired           1720\n",
      "entrepreneur      1456\n",
      "self-employed     1421\n",
      "housemaid         1060\n",
      "unemployed        1014\n",
      "student            875\n",
      "unknown            330\n",
      "Name: job, dtype: int64\n",
      "\n",
      "\n",
      "marital\n",
      "married     24928\n",
      "single      11568\n",
      "divorced     4612\n",
      "unknown        80\n",
      "Name: marital, dtype: int64\n",
      "\n",
      "\n",
      "education\n",
      "university.degree      12168\n",
      "high.school             9515\n",
      "basic.9y                6045\n",
      "professional.course     5243\n",
      "basic.4y                4176\n",
      "basic.6y                2292\n",
      "unknown                 1731\n",
      "illiterate                18\n",
      "Name: education, dtype: int64\n",
      "\n",
      "\n",
      "default\n",
      "no         32588\n",
      "unknown     8597\n",
      "yes            3\n",
      "Name: default, dtype: int64\n",
      "\n",
      "\n",
      "housing\n",
      "yes        21576\n",
      "no         18622\n",
      "unknown      990\n",
      "Name: housing, dtype: int64\n",
      "\n",
      "\n",
      "loan\n",
      "no         33950\n",
      "yes         6248\n",
      "unknown      990\n",
      "Name: loan, dtype: int64\n",
      "\n",
      "\n",
      "contact\n",
      "cellular     26144\n",
      "telephone    15044\n",
      "Name: contact, dtype: int64\n",
      "\n",
      "\n",
      "month\n",
      "may    13769\n",
      "jul     7174\n",
      "aug     6178\n",
      "jun     5318\n",
      "nov     4101\n",
      "apr     2632\n",
      "oct      718\n",
      "sep      570\n",
      "mar      546\n",
      "dec      182\n",
      "Name: month, dtype: int64\n",
      "\n",
      "\n",
      "day_of_week\n",
      "thu    8623\n",
      "mon    8514\n",
      "wed    8134\n",
      "tue    8090\n",
      "fri    7827\n",
      "Name: day_of_week, dtype: int64\n",
      "\n",
      "\n",
      "poutcome\n",
      "nonexistent    35563\n",
      "failure         4252\n",
      "success         1373\n",
      "Name: poutcome, dtype: int64\n",
      "\n",
      "\n",
      "y\n",
      "no     36548\n",
      "yes     4640\n",
      "Name: y, dtype: int64\n",
      "\n",
      "\n"
     ]
    }
   ],
   "source": [
    "for column in df.columns:\n",
    "    if df[column].dtype =='O':\n",
    "        print(column)\n",
    "        print(df[column].value_counts())\n",
    "        print('\\n')"
   ]
  },
  {
   "cell_type": "markdown",
   "metadata": {},
   "source": [
    "Checking collinear relationship"
   ]
  },
  {
   "cell_type": "code",
   "execution_count": 17,
   "metadata": {
    "ExecuteTime": {
     "end_time": "2020-03-27T17:04:33.265739Z",
     "start_time": "2020-03-27T17:04:33.259788Z"
    },
    "scrolled": true
   },
   "outputs": [
    {
     "data": {
      "text/plain": [
       "999    39673\n",
       "3        439\n",
       "6        412\n",
       "4        118\n",
       "9         64\n",
       "2         61\n",
       "7         60\n",
       "12        58\n",
       "10        52\n",
       "5         46\n",
       "13        36\n",
       "11        28\n",
       "1         26\n",
       "15        24\n",
       "14        20\n",
       "8         18\n",
       "0         15\n",
       "16        11\n",
       "17         8\n",
       "18         7\n",
       "19         3\n",
       "22         3\n",
       "21         2\n",
       "26         1\n",
       "20         1\n",
       "25         1\n",
       "27         1\n",
       "Name: pdays, dtype: int64"
      ]
     },
     "execution_count": 17,
     "metadata": {},
     "output_type": "execute_result"
    }
   ],
   "source": [
    "df.pdays.value_counts()"
   ]
  },
  {
   "cell_type": "markdown",
   "metadata": {
    "ExecuteTime": {
     "end_time": "2019-10-24T00:30:48.554757Z",
     "start_time": "2019-10-24T00:30:48.549761Z"
    }
   },
   "source": [
    "#### `pdays` \n",
    "Since most rows has 999 for the column `pdays` which indicating never contacted for a previous campaign, the continuous variable 'pdays' is transformed into a categorical variable with the increment of a week.  "
   ]
  },
  {
   "cell_type": "code",
   "execution_count": 18,
   "metadata": {
    "ExecuteTime": {
     "end_time": "2020-03-27T17:04:34.337389Z",
     "start_time": "2020-03-27T17:04:34.299492Z"
    }
   },
   "outputs": [],
   "source": [
    "days  = list(range(0,35,7)) \n",
    "days.append(999)\n",
    "pdays_wk ={}\n",
    "for i in range(len(days)):\n",
    "    if i == 0:\n",
    "        pdays_wk['less_1day'] = df[df.pdays == 0].index\n",
    "    elif i < 5 :\n",
    "        wk = int(days[i]/7)\n",
    "        key = f'less_{wk}week'\n",
    "        pdays_wk[key] = df[(df.pdays>days[i-1])&(df.pdays<= days[i])].index\n",
    "    else:\n",
    "        pdays_wk['never_contacted'] = df[df.pdays == days[i]].index\n",
    "\n",
    "wks = list(pdays_wk.keys())\n",
    "for wk in wks:\n",
    "    df.loc[pdays_wk[wk], 'pdays']= wk"
   ]
  },
  {
   "cell_type": "code",
   "execution_count": 19,
   "metadata": {
    "ExecuteTime": {
     "end_time": "2020-03-27T17:04:34.867208Z",
     "start_time": "2020-03-27T17:04:34.860231Z"
    }
   },
   "outputs": [
    {
     "data": {
      "text/plain": [
       "never_contacted    39673\n",
       "less_1week          1162\n",
       "less_2week           276\n",
       "less_3week            56\n",
       "less_1day             15\n",
       "less_4week             6\n",
       "Name: pdays, dtype: int64"
      ]
     },
     "execution_count": 19,
     "metadata": {},
     "output_type": "execute_result"
    }
   ],
   "source": [
    "df.pdays.value_counts()"
   ]
  },
  {
   "cell_type": "markdown",
   "metadata": {},
   "source": [
    "#### `y`, target variable\n",
    "The labels in the target variable `y` was encoded with 0 for *\"no\"* and 1 for *\"yes\"*"
   ]
  },
  {
   "cell_type": "code",
   "execution_count": 20,
   "metadata": {
    "ExecuteTime": {
     "end_time": "2020-03-27T17:04:35.737390Z",
     "start_time": "2020-03-27T17:04:35.732403Z"
    }
   },
   "outputs": [
    {
     "data": {
      "text/plain": [
       "array(['no', 'yes'], dtype=object)"
      ]
     },
     "execution_count": 20,
     "metadata": {},
     "output_type": "execute_result"
    }
   ],
   "source": [
    "le = preprocessing.LabelEncoder()\n",
    "le.fit(df.y)\n",
    "le.classes_"
   ]
  },
  {
   "cell_type": "code",
   "execution_count": 21,
   "metadata": {
    "ExecuteTime": {
     "end_time": "2020-03-27T17:04:36.279351Z",
     "start_time": "2020-03-27T17:04:36.268406Z"
    }
   },
   "outputs": [],
   "source": [
    "df.y = le.transform(df.y)"
   ]
  },
  {
   "cell_type": "markdown",
   "metadata": {},
   "source": [
    "#### Renaming columns"
   ]
  },
  {
   "cell_type": "markdown",
   "metadata": {},
   "source": [
    "Change the colume names that contain `.` with `-` "
   ]
  },
  {
   "cell_type": "code",
   "execution_count": 22,
   "metadata": {
    "ExecuteTime": {
     "end_time": "2020-03-27T17:04:38.000737Z",
     "start_time": "2020-03-27T17:04:37.996719Z"
    },
    "scrolled": true
   },
   "outputs": [
    {
     "data": {
      "text/plain": [
       "['age',\n",
       " 'job',\n",
       " 'marital',\n",
       " 'education',\n",
       " 'default',\n",
       " 'housing',\n",
       " 'loan',\n",
       " 'contact',\n",
       " 'month',\n",
       " 'day_of_week',\n",
       " 'campaign',\n",
       " 'pdays',\n",
       " 'previous',\n",
       " 'poutcome',\n",
       " 'emp_var_rate',\n",
       " 'cons_price_idx',\n",
       " 'cons_conf_idx',\n",
       " 'euribor3m',\n",
       " 'nr_employed',\n",
       " 'y']"
      ]
     },
     "execution_count": 22,
     "metadata": {},
     "output_type": "execute_result"
    }
   ],
   "source": [
    "cols = list(df.columns)\n",
    "for i, string in enumerate(cols):\n",
    "    cols[i]=string.replace('.','_')\n",
    "cols"
   ]
  },
  {
   "cell_type": "code",
   "execution_count": 23,
   "metadata": {
    "ExecuteTime": {
     "end_time": "2020-03-27T17:04:38.640446Z",
     "start_time": "2020-03-27T17:04:38.637448Z"
    }
   },
   "outputs": [],
   "source": [
    "df.columns = cols"
   ]
  },
  {
   "cell_type": "code",
   "execution_count": 24,
   "metadata": {
    "ExecuteTime": {
     "end_time": "2020-03-27T17:04:39.112378Z",
     "start_time": "2020-03-27T17:04:39.107392Z"
    }
   },
   "outputs": [
    {
     "data": {
      "text/plain": [
       "Index(['age', 'job', 'marital', 'education', 'default', 'housing', 'loan',\n",
       "       'contact', 'month', 'day_of_week', 'campaign', 'pdays', 'previous',\n",
       "       'poutcome', 'emp_var_rate', 'cons_price_idx', 'cons_conf_idx',\n",
       "       'euribor3m', 'nr_employed', 'y'],\n",
       "      dtype='object')"
      ]
     },
     "execution_count": 24,
     "metadata": {},
     "output_type": "execute_result"
    }
   ],
   "source": [
    "df.columns"
   ]
  },
  {
   "cell_type": "markdown",
   "metadata": {},
   "source": [
    "#### Make a copy of the dataframe just in case. "
   ]
  },
  {
   "cell_type": "code",
   "execution_count": 25,
   "metadata": {
    "ExecuteTime": {
     "end_time": "2020-03-27T17:04:40.216511Z",
     "start_time": "2020-03-27T17:04:40.211520Z"
    }
   },
   "outputs": [],
   "source": [
    "df_before = df.copy()"
   ]
  },
  {
   "cell_type": "code",
   "execution_count": 26,
   "metadata": {
    "ExecuteTime": {
     "end_time": "2020-03-27T17:04:40.678689Z",
     "start_time": "2020-03-27T17:04:40.659740Z"
    },
    "scrolled": true
   },
   "outputs": [
    {
     "name": "stdout",
     "output_type": "stream",
     "text": [
      "<class 'pandas.core.frame.DataFrame'>\n",
      "RangeIndex: 41188 entries, 0 to 41187\n",
      "Data columns (total 20 columns):\n",
      "age               41188 non-null int64\n",
      "job               41188 non-null object\n",
      "marital           41188 non-null object\n",
      "education         41188 non-null object\n",
      "default           41188 non-null object\n",
      "housing           41188 non-null object\n",
      "loan              41188 non-null object\n",
      "contact           41188 non-null object\n",
      "month             41188 non-null object\n",
      "day_of_week       41188 non-null object\n",
      "campaign          41188 non-null int64\n",
      "pdays             41188 non-null object\n",
      "previous          41188 non-null int64\n",
      "poutcome          41188 non-null object\n",
      "emp_var_rate      41188 non-null float64\n",
      "cons_price_idx    41188 non-null float64\n",
      "cons_conf_idx     41188 non-null float64\n",
      "euribor3m         41188 non-null float64\n",
      "nr_employed       41188 non-null float64\n",
      "y                 41188 non-null int32\n",
      "dtypes: float64(5), int32(1), int64(3), object(11)\n",
      "memory usage: 6.1+ MB\n"
     ]
    }
   ],
   "source": [
    "df_before.info()"
   ]
  },
  {
   "cell_type": "markdown",
   "metadata": {},
   "source": [
    "#### Getting dummy variables "
   ]
  },
  {
   "cell_type": "code",
   "execution_count": 27,
   "metadata": {
    "ExecuteTime": {
     "end_time": "2020-03-27T17:04:41.987485Z",
     "start_time": "2020-03-27T17:04:41.980475Z"
    }
   },
   "outputs": [],
   "source": [
    "target = df.y\n",
    "features = df[df.columns[:-1]]"
   ]
  },
  {
   "cell_type": "code",
   "execution_count": 28,
   "metadata": {
    "ExecuteTime": {
     "end_time": "2020-03-27T17:04:42.488133Z",
     "start_time": "2020-03-27T17:04:42.443253Z"
    },
    "scrolled": true
   },
   "outputs": [],
   "source": [
    "features = pd.get_dummies(features, drop_first=True)"
   ]
  },
  {
   "cell_type": "code",
   "execution_count": 29,
   "metadata": {
    "ExecuteTime": {
     "end_time": "2020-03-27T17:04:42.864392Z",
     "start_time": "2020-03-27T17:04:42.849437Z"
    }
   },
   "outputs": [
    {
     "data": {
      "text/html": [
       "<div>\n",
       "<style scoped>\n",
       "    .dataframe tbody tr th:only-of-type {\n",
       "        vertical-align: middle;\n",
       "    }\n",
       "\n",
       "    .dataframe tbody tr th {\n",
       "        vertical-align: top;\n",
       "    }\n",
       "\n",
       "    .dataframe thead th {\n",
       "        text-align: right;\n",
       "    }\n",
       "</style>\n",
       "<table border=\"1\" class=\"dataframe\">\n",
       "  <thead>\n",
       "    <tr style=\"text-align: right;\">\n",
       "      <th></th>\n",
       "      <th>age</th>\n",
       "      <th>campaign</th>\n",
       "      <th>previous</th>\n",
       "      <th>emp_var_rate</th>\n",
       "      <th>cons_price_idx</th>\n",
       "      <th>cons_conf_idx</th>\n",
       "      <th>euribor3m</th>\n",
       "      <th>nr_employed</th>\n",
       "      <th>job_blue-collar</th>\n",
       "      <th>job_entrepreneur</th>\n",
       "      <th>...</th>\n",
       "      <th>day_of_week_thu</th>\n",
       "      <th>day_of_week_tue</th>\n",
       "      <th>day_of_week_wed</th>\n",
       "      <th>pdays_less_1week</th>\n",
       "      <th>pdays_less_2week</th>\n",
       "      <th>pdays_less_3week</th>\n",
       "      <th>pdays_less_4week</th>\n",
       "      <th>pdays_never_contacted</th>\n",
       "      <th>poutcome_nonexistent</th>\n",
       "      <th>poutcome_success</th>\n",
       "    </tr>\n",
       "  </thead>\n",
       "  <tbody>\n",
       "    <tr>\n",
       "      <td>0</td>\n",
       "      <td>56</td>\n",
       "      <td>1</td>\n",
       "      <td>0</td>\n",
       "      <td>1.1</td>\n",
       "      <td>93.994</td>\n",
       "      <td>-36.4</td>\n",
       "      <td>4.857</td>\n",
       "      <td>5191.0</td>\n",
       "      <td>0</td>\n",
       "      <td>0</td>\n",
       "      <td>...</td>\n",
       "      <td>0</td>\n",
       "      <td>0</td>\n",
       "      <td>0</td>\n",
       "      <td>0</td>\n",
       "      <td>0</td>\n",
       "      <td>0</td>\n",
       "      <td>0</td>\n",
       "      <td>1</td>\n",
       "      <td>1</td>\n",
       "      <td>0</td>\n",
       "    </tr>\n",
       "    <tr>\n",
       "      <td>1</td>\n",
       "      <td>57</td>\n",
       "      <td>1</td>\n",
       "      <td>0</td>\n",
       "      <td>1.1</td>\n",
       "      <td>93.994</td>\n",
       "      <td>-36.4</td>\n",
       "      <td>4.857</td>\n",
       "      <td>5191.0</td>\n",
       "      <td>0</td>\n",
       "      <td>0</td>\n",
       "      <td>...</td>\n",
       "      <td>0</td>\n",
       "      <td>0</td>\n",
       "      <td>0</td>\n",
       "      <td>0</td>\n",
       "      <td>0</td>\n",
       "      <td>0</td>\n",
       "      <td>0</td>\n",
       "      <td>1</td>\n",
       "      <td>1</td>\n",
       "      <td>0</td>\n",
       "    </tr>\n",
       "    <tr>\n",
       "      <td>2</td>\n",
       "      <td>37</td>\n",
       "      <td>1</td>\n",
       "      <td>0</td>\n",
       "      <td>1.1</td>\n",
       "      <td>93.994</td>\n",
       "      <td>-36.4</td>\n",
       "      <td>4.857</td>\n",
       "      <td>5191.0</td>\n",
       "      <td>0</td>\n",
       "      <td>0</td>\n",
       "      <td>...</td>\n",
       "      <td>0</td>\n",
       "      <td>0</td>\n",
       "      <td>0</td>\n",
       "      <td>0</td>\n",
       "      <td>0</td>\n",
       "      <td>0</td>\n",
       "      <td>0</td>\n",
       "      <td>1</td>\n",
       "      <td>1</td>\n",
       "      <td>0</td>\n",
       "    </tr>\n",
       "    <tr>\n",
       "      <td>3</td>\n",
       "      <td>40</td>\n",
       "      <td>1</td>\n",
       "      <td>0</td>\n",
       "      <td>1.1</td>\n",
       "      <td>93.994</td>\n",
       "      <td>-36.4</td>\n",
       "      <td>4.857</td>\n",
       "      <td>5191.0</td>\n",
       "      <td>0</td>\n",
       "      <td>0</td>\n",
       "      <td>...</td>\n",
       "      <td>0</td>\n",
       "      <td>0</td>\n",
       "      <td>0</td>\n",
       "      <td>0</td>\n",
       "      <td>0</td>\n",
       "      <td>0</td>\n",
       "      <td>0</td>\n",
       "      <td>1</td>\n",
       "      <td>1</td>\n",
       "      <td>0</td>\n",
       "    </tr>\n",
       "    <tr>\n",
       "      <td>4</td>\n",
       "      <td>56</td>\n",
       "      <td>1</td>\n",
       "      <td>0</td>\n",
       "      <td>1.1</td>\n",
       "      <td>93.994</td>\n",
       "      <td>-36.4</td>\n",
       "      <td>4.857</td>\n",
       "      <td>5191.0</td>\n",
       "      <td>0</td>\n",
       "      <td>0</td>\n",
       "      <td>...</td>\n",
       "      <td>0</td>\n",
       "      <td>0</td>\n",
       "      <td>0</td>\n",
       "      <td>0</td>\n",
       "      <td>0</td>\n",
       "      <td>0</td>\n",
       "      <td>0</td>\n",
       "      <td>1</td>\n",
       "      <td>1</td>\n",
       "      <td>0</td>\n",
       "    </tr>\n",
       "  </tbody>\n",
       "</table>\n",
       "<p>5 rows × 56 columns</p>\n",
       "</div>"
      ],
      "text/plain": [
       "   age  campaign  previous  emp_var_rate  cons_price_idx  cons_conf_idx  \\\n",
       "0   56         1         0           1.1          93.994          -36.4   \n",
       "1   57         1         0           1.1          93.994          -36.4   \n",
       "2   37         1         0           1.1          93.994          -36.4   \n",
       "3   40         1         0           1.1          93.994          -36.4   \n",
       "4   56         1         0           1.1          93.994          -36.4   \n",
       "\n",
       "   euribor3m  nr_employed  job_blue-collar  job_entrepreneur  ...  \\\n",
       "0      4.857       5191.0                0                 0  ...   \n",
       "1      4.857       5191.0                0                 0  ...   \n",
       "2      4.857       5191.0                0                 0  ...   \n",
       "3      4.857       5191.0                0                 0  ...   \n",
       "4      4.857       5191.0                0                 0  ...   \n",
       "\n",
       "   day_of_week_thu  day_of_week_tue  day_of_week_wed  pdays_less_1week  \\\n",
       "0                0                0                0                 0   \n",
       "1                0                0                0                 0   \n",
       "2                0                0                0                 0   \n",
       "3                0                0                0                 0   \n",
       "4                0                0                0                 0   \n",
       "\n",
       "   pdays_less_2week  pdays_less_3week  pdays_less_4week  \\\n",
       "0                 0                 0                 0   \n",
       "1                 0                 0                 0   \n",
       "2                 0                 0                 0   \n",
       "3                 0                 0                 0   \n",
       "4                 0                 0                 0   \n",
       "\n",
       "   pdays_never_contacted  poutcome_nonexistent  poutcome_success  \n",
       "0                      1                     1                 0  \n",
       "1                      1                     1                 0  \n",
       "2                      1                     1                 0  \n",
       "3                      1                     1                 0  \n",
       "4                      1                     1                 0  \n",
       "\n",
       "[5 rows x 56 columns]"
      ]
     },
     "execution_count": 29,
     "metadata": {},
     "output_type": "execute_result"
    }
   ],
   "source": [
    "features.head()"
   ]
  },
  {
   "cell_type": "code",
   "execution_count": 30,
   "metadata": {
    "ExecuteTime": {
     "end_time": "2020-03-27T17:04:43.529300Z",
     "start_time": "2020-03-27T17:04:43.524333Z"
    }
   },
   "outputs": [
    {
     "data": {
      "text/plain": [
       "Index(['age', 'campaign', 'previous', 'emp_var_rate', 'cons_price_idx',\n",
       "       'cons_conf_idx', 'euribor3m', 'nr_employed', 'job_blue-collar',\n",
       "       'job_entrepreneur', 'job_housemaid', 'job_management', 'job_retired',\n",
       "       'job_self-employed', 'job_services', 'job_student', 'job_technician',\n",
       "       'job_unemployed', 'job_unknown', 'marital_married', 'marital_single',\n",
       "       'marital_unknown', 'education_basic.6y', 'education_basic.9y',\n",
       "       'education_high.school', 'education_illiterate',\n",
       "       'education_professional.course', 'education_university.degree',\n",
       "       'education_unknown', 'default_unknown', 'default_yes',\n",
       "       'housing_unknown', 'housing_yes', 'loan_unknown', 'loan_yes',\n",
       "       'contact_telephone', 'month_aug', 'month_dec', 'month_jul', 'month_jun',\n",
       "       'month_mar', 'month_may', 'month_nov', 'month_oct', 'month_sep',\n",
       "       'day_of_week_mon', 'day_of_week_thu', 'day_of_week_tue',\n",
       "       'day_of_week_wed', 'pdays_less_1week', 'pdays_less_2week',\n",
       "       'pdays_less_3week', 'pdays_less_4week', 'pdays_never_contacted',\n",
       "       'poutcome_nonexistent', 'poutcome_success'],\n",
       "      dtype='object')"
      ]
     },
     "execution_count": 30,
     "metadata": {},
     "output_type": "execute_result"
    }
   ],
   "source": [
    "features.columns"
   ]
  },
  {
   "cell_type": "markdown",
   "metadata": {},
   "source": [
    "# EDA exploratory data analysis"
   ]
  },
  {
   "cell_type": "markdown",
   "metadata": {},
   "source": [
    "#### Detecting collinearity"
   ]
  },
  {
   "cell_type": "code",
   "execution_count": 11,
   "metadata": {
    "ExecuteTime": {
     "end_time": "2020-03-28T21:08:29.563770Z",
     "start_time": "2020-03-28T21:08:29.558783Z"
    }
   },
   "outputs": [],
   "source": [
    "def strongCorr(df, limit):\n",
    "    corrMat = df.corr()\n",
    "    for col in corrMat.columns:\n",
    "        if sum(abs(corrMat[col])>limit) > 1:\n",
    "            print('the correlation is higher than {} with {}'.format(limit, col),\n",
    "                  '\\n',corrMat.loc[abs(corrMat[col])>limit][col],'\\n')"
   ]
  },
  {
   "cell_type": "code",
   "execution_count": 12,
   "metadata": {
    "ExecuteTime": {
     "end_time": "2020-03-28T21:08:30.003820Z",
     "start_time": "2020-03-28T21:08:29.999836Z"
    }
   },
   "outputs": [],
   "source": [
    "def strongCorr1(df, limit):\n",
    "    corrMat = df.corr()\n",
    "    correlated =[]\n",
    "    for col in corrMat.columns:\n",
    "        if sum(abs(corrMat[col])>limit) > 1:\n",
    "            \n",
    "            names = list(corrMat.loc[abs(corrMat[col])>limit].index)\n",
    "            for x in names:\n",
    "                if x != col:\n",
    "                   # print('drop {} strongly correlated with {}.'.format(x,col))\n",
    "                    correlated.append(x)\n",
    "            corrCount = dict((x,correlated.count(x)) for x in set(correlated))\n",
    "    return list(set(correlated)), corrCount"
   ]
  },
  {
   "cell_type": "code",
   "execution_count": 33,
   "metadata": {
    "ExecuteTime": {
     "end_time": "2020-03-27T17:04:50.150626Z",
     "start_time": "2020-03-27T17:04:50.147610Z"
    },
    "scrolled": true
   },
   "outputs": [],
   "source": [
    "def corrcoef_target(feature_list):\n",
    "    '''\n",
    "    input\n",
    "    features_list: list of features whose corr matrices \n",
    "    with target variable are going to be created.\n",
    "    the list of features can be obtained using strongCorr1 function. \n",
    "    \n",
    "    output\n",
    "    corr. matrices\n",
    "    '''\n",
    "    for feature in feature_list:\n",
    "        print(feature)\n",
    "        print(np.corrcoef(target, features[feature]))\n",
    "        print('\\n')"
   ]
  },
  {
   "cell_type": "code",
   "execution_count": 34,
   "metadata": {
    "ExecuteTime": {
     "end_time": "2020-03-27T17:04:51.622636Z",
     "start_time": "2020-03-27T17:04:51.348377Z"
    },
    "scrolled": true
   },
   "outputs": [
    {
     "name": "stdout",
     "output_type": "stream",
     "text": [
      "the correlation is higher than 0.9 with emp_var_rate \n",
      " emp_var_rate    1.000000\n",
      "euribor3m       0.972245\n",
      "nr_employed     0.906970\n",
      "Name: emp_var_rate, dtype: float64 \n",
      "\n",
      "the correlation is higher than 0.9 with euribor3m \n",
      " emp_var_rate    0.972245\n",
      "euribor3m       1.000000\n",
      "nr_employed     0.945154\n",
      "Name: euribor3m, dtype: float64 \n",
      "\n",
      "the correlation is higher than 0.9 with nr_employed \n",
      " emp_var_rate    0.906970\n",
      "euribor3m       0.945154\n",
      "nr_employed     1.000000\n",
      "Name: nr_employed, dtype: float64 \n",
      "\n",
      "the correlation is higher than 0.9 with housing_unknown \n",
      " housing_unknown    1.0\n",
      "loan_unknown       1.0\n",
      "Name: housing_unknown, dtype: float64 \n",
      "\n",
      "the correlation is higher than 0.9 with loan_unknown \n",
      " housing_unknown    1.0\n",
      "loan_unknown       1.0\n",
      "Name: loan_unknown, dtype: float64 \n",
      "\n",
      "the correlation is higher than 0.9 with pdays_never_contacted \n",
      " pdays_never_contacted    1.000000\n",
      "poutcome_success        -0.950283\n",
      "Name: pdays_never_contacted, dtype: float64 \n",
      "\n",
      "the correlation is higher than 0.9 with poutcome_success \n",
      " pdays_never_contacted   -0.950283\n",
      "poutcome_success         1.000000\n",
      "Name: poutcome_success, dtype: float64 \n",
      "\n"
     ]
    }
   ],
   "source": [
    "strongCorr(features, 0.9)"
   ]
  },
  {
   "cell_type": "code",
   "execution_count": 35,
   "metadata": {
    "ExecuteTime": {
     "end_time": "2020-03-27T17:04:52.641681Z",
     "start_time": "2020-03-27T17:04:52.372376Z"
    }
   },
   "outputs": [
    {
     "name": "stdout",
     "output_type": "stream",
     "text": [
      "['euribor3m', 'loan_unknown', 'emp_var_rate', 'nr_employed', 'poutcome_success', 'pdays_never_contacted', 'housing_unknown'] \n",
      " {'euribor3m': 2, 'loan_unknown': 1, 'emp_var_rate': 2, 'nr_employed': 2, 'poutcome_success': 1, 'pdays_never_contacted': 1, 'housing_unknown': 1}\n"
     ]
    }
   ],
   "source": [
    "feature_list, corrCount= strongCorr1(features,0.9)\n",
    "print(feature_list,'\\n', corrCount)"
   ]
  },
  {
   "cell_type": "code",
   "execution_count": 36,
   "metadata": {
    "ExecuteTime": {
     "end_time": "2020-03-27T17:04:56.054810Z",
     "start_time": "2020-03-27T17:04:55.972032Z"
    },
    "scrolled": true
   },
   "outputs": [
    {
     "name": "stdout",
     "output_type": "stream",
     "text": [
      "euribor3m\n",
      "[[ 1.        -0.3077714]\n",
      " [-0.3077714  1.       ]]\n",
      "\n",
      "\n",
      "loan_unknown\n",
      "[[ 1.         -0.00227003]\n",
      " [-0.00227003  1.        ]]\n",
      "\n",
      "\n",
      "emp_var_rate\n",
      "[[ 1.         -0.29833443]\n",
      " [-0.29833443  1.        ]]\n",
      "\n",
      "\n",
      "nr_employed\n",
      "[[ 1.        -0.3546783]\n",
      " [-0.3546783  1.       ]]\n",
      "\n",
      "\n",
      "poutcome_success\n",
      "[[1.         0.31626938]\n",
      " [0.31626938 1.        ]]\n",
      "\n",
      "\n",
      "pdays_never_contacted\n",
      "[[ 1.        -0.3248767]\n",
      " [-0.3248767  1.       ]]\n",
      "\n",
      "\n",
      "housing_unknown\n",
      "[[ 1.         -0.00227003]\n",
      " [-0.00227003  1.        ]]\n",
      "\n",
      "\n"
     ]
    }
   ],
   "source": [
    "corrcoef_target(feature_list)"
   ]
  },
  {
   "cell_type": "markdown",
   "metadata": {},
   "source": [
    "All `euribor3m`, `emp_var_rate`, and `nr_employed` are metrics that reflect the economic situation in Europe and they are highly correlated. So we will keep `euribor3m` and drop the other two variables. "
   ]
  },
  {
   "cell_type": "code",
   "execution_count": 37,
   "metadata": {
    "ExecuteTime": {
     "end_time": "2020-03-27T17:04:56.459235Z",
     "start_time": "2020-03-27T17:04:56.451256Z"
    }
   },
   "outputs": [],
   "source": [
    "features.drop(['nr_employed','emp_var_rate'],axis =1, inplace = True)"
   ]
  },
  {
   "cell_type": "markdown",
   "metadata": {},
   "source": [
    "Also we see that `loan_unknown` and `housing_unknown` are perfectly correlated so `housing_unknown` is dropped. "
   ]
  },
  {
   "cell_type": "code",
   "execution_count": 38,
   "metadata": {
    "ExecuteTime": {
     "end_time": "2020-03-27T17:04:58.865364Z",
     "start_time": "2020-03-27T17:04:56.914772Z"
    }
   },
   "outputs": [
    {
     "data": {
      "text/plain": [
       "<matplotlib.collections.PathCollection at 0x23879a70248>"
      ]
     },
     "execution_count": 38,
     "metadata": {},
     "output_type": "execute_result"
    },
    {
     "data": {
      "image/png": "[encoded data removed]",
      "text/plain": [
       "<Figure size 432x288 with 1 Axes>"
      ]
     },
     "metadata": {
      "needs_background": "light"
     },
     "output_type": "display_data"
    }
   ],
   "source": [
    "plt.scatter(features.housing_unknown, features.loan_unknown)"
   ]
  },
  {
   "cell_type": "code",
   "execution_count": 39,
   "metadata": {
    "ExecuteTime": {
     "end_time": "2020-03-27T17:05:02.595529Z",
     "start_time": "2020-03-27T17:05:02.587521Z"
    }
   },
   "outputs": [],
   "source": [
    "features.drop('housing_unknown', axis = 1, inplace = True)"
   ]
  },
  {
   "cell_type": "markdown",
   "metadata": {},
   "source": [
    "Checking out collinearity further; finding pairs of features whose corr. coeff. are higher than 0.8."
   ]
  },
  {
   "cell_type": "code",
   "execution_count": 40,
   "metadata": {
    "ExecuteTime": {
     "end_time": "2020-03-27T17:05:03.215761Z",
     "start_time": "2020-03-27T17:05:02.972383Z"
    },
    "scrolled": true
   },
   "outputs": [
    {
     "name": "stdout",
     "output_type": "stream",
     "text": [
      "the correlation is higher than 0.8 with previous \n",
      " previous                1.000000\n",
      "poutcome_nonexistent   -0.878776\n",
      "Name: previous, dtype: float64 \n",
      "\n",
      "the correlation is higher than 0.8 with pdays_less_1week \n",
      " pdays_less_1week         1.000000\n",
      "pdays_never_contacted   -0.871913\n",
      "poutcome_success         0.876687\n",
      "Name: pdays_less_1week, dtype: float64 \n",
      "\n",
      "the correlation is higher than 0.8 with pdays_never_contacted \n",
      " pdays_less_1week        -0.871913\n",
      "pdays_never_contacted    1.000000\n",
      "poutcome_success        -0.950283\n",
      "Name: pdays_never_contacted, dtype: float64 \n",
      "\n",
      "the correlation is higher than 0.8 with poutcome_nonexistent \n",
      " previous               -0.878776\n",
      "poutcome_nonexistent    1.000000\n",
      "Name: poutcome_nonexistent, dtype: float64 \n",
      "\n",
      "the correlation is higher than 0.8 with poutcome_success \n",
      " pdays_less_1week         0.876687\n",
      "pdays_never_contacted   -0.950283\n",
      "poutcome_success         1.000000\n",
      "Name: poutcome_success, dtype: float64 \n",
      "\n"
     ]
    }
   ],
   "source": [
    "strongCorr(features, 0.8)"
   ]
  },
  {
   "cell_type": "code",
   "execution_count": 41,
   "metadata": {
    "ExecuteTime": {
     "end_time": "2020-03-27T17:05:03.460108Z",
     "start_time": "2020-03-27T17:05:03.216729Z"
    }
   },
   "outputs": [
    {
     "data": {
      "text/plain": [
       "['previous',\n",
       " 'pdays_never_contacted',\n",
       " 'poutcome_nonexistent',\n",
       " 'poutcome_success',\n",
       " 'pdays_less_1week']"
      ]
     },
     "execution_count": 41,
     "metadata": {},
     "output_type": "execute_result"
    }
   ],
   "source": [
    "strong_corr, corrCount = strongCorr1(features, 0.8)\n",
    "strong_corr"
   ]
  },
  {
   "cell_type": "code",
   "execution_count": 42,
   "metadata": {
    "ExecuteTime": {
     "end_time": "2020-03-27T17:05:03.465065Z",
     "start_time": "2020-03-27T17:05:03.461105Z"
    }
   },
   "outputs": [
    {
     "data": {
      "text/plain": [
       "Index(['age', 'campaign', 'previous', 'cons_price_idx', 'cons_conf_idx',\n",
       "       'euribor3m', 'job_blue-collar', 'job_entrepreneur', 'job_housemaid',\n",
       "       'job_management', 'job_retired', 'job_self-employed', 'job_services',\n",
       "       'job_student', 'job_technician', 'job_unemployed', 'job_unknown',\n",
       "       'marital_married', 'marital_single', 'marital_unknown',\n",
       "       'education_basic.6y', 'education_basic.9y', 'education_high.school',\n",
       "       'education_illiterate', 'education_professional.course',\n",
       "       'education_university.degree', 'education_unknown', 'default_unknown',\n",
       "       'default_yes', 'housing_yes', 'loan_unknown', 'loan_yes',\n",
       "       'contact_telephone', 'month_aug', 'month_dec', 'month_jul', 'month_jun',\n",
       "       'month_mar', 'month_may', 'month_nov', 'month_oct', 'month_sep',\n",
       "       'day_of_week_mon', 'day_of_week_thu', 'day_of_week_tue',\n",
       "       'day_of_week_wed', 'pdays_less_1week', 'pdays_less_2week',\n",
       "       'pdays_less_3week', 'pdays_less_4week', 'pdays_never_contacted',\n",
       "       'poutcome_nonexistent', 'poutcome_success'],\n",
       "      dtype='object')"
      ]
     },
     "execution_count": 42,
     "metadata": {},
     "output_type": "execute_result"
    }
   ],
   "source": [
    "features.columns"
   ]
  },
  {
   "cell_type": "code",
   "execution_count": 43,
   "metadata": {
    "ExecuteTime": {
     "end_time": "2020-03-27T17:05:03.632646Z",
     "start_time": "2020-03-27T17:05:03.624639Z"
    },
    "scrolled": true
   },
   "outputs": [
    {
     "name": "stdout",
     "output_type": "stream",
     "text": [
      "previous\n",
      "[[1.       0.230181]\n",
      " [0.230181 1.      ]]\n",
      "\n",
      "\n",
      "pdays_never_contacted\n",
      "[[ 1.        -0.3248767]\n",
      " [-0.3248767  1.       ]]\n",
      "\n",
      "\n",
      "poutcome_nonexistent\n",
      "[[ 1.         -0.19350685]\n",
      " [-0.19350685  1.        ]]\n",
      "\n",
      "\n",
      "poutcome_success\n",
      "[[1.         0.31626938]\n",
      " [0.31626938 1.        ]]\n",
      "\n",
      "\n",
      "pdays_less_1week\n",
      "[[1.         0.29361296]\n",
      " [0.29361296 1.        ]]\n",
      "\n",
      "\n"
     ]
    }
   ],
   "source": [
    "corrcoef_target(strong_corr)"
   ]
  },
  {
   "cell_type": "code",
   "execution_count": 44,
   "metadata": {
    "ExecuteTime": {
     "end_time": "2020-03-27T17:05:06.985470Z",
     "start_time": "2020-03-27T17:05:06.980484Z"
    }
   },
   "outputs": [
    {
     "data": {
      "text/plain": [
       "{'previous': 1,\n",
       " 'pdays_never_contacted': 2,\n",
       " 'poutcome_nonexistent': 1,\n",
       " 'poutcome_success': 2,\n",
       " 'pdays_less_1week': 2}"
      ]
     },
     "execution_count": 44,
     "metadata": {},
     "output_type": "execute_result"
    }
   ],
   "source": [
    "corrCount"
   ]
  },
  {
   "cell_type": "markdown",
   "metadata": {},
   "source": [
    "From the list of features above, `poutcome_success` and `previous` are kept as they have more information than the other three in interpretations.  "
   ]
  },
  {
   "cell_type": "code",
   "execution_count": 45,
   "metadata": {
    "ExecuteTime": {
     "end_time": "2020-03-27T17:05:07.402620Z",
     "start_time": "2020-03-27T17:05:07.394613Z"
    }
   },
   "outputs": [],
   "source": [
    "features = features.drop(['pdays_never_contacted','poutcome_nonexistent','pdays_less_1week'], axis = 1)"
   ]
  },
  {
   "cell_type": "markdown",
   "metadata": {},
   "source": [
    "Finally, we drop `marital_single` and keep `marital_married` so that we have columns about the marital status of **married and divorced**. "
   ]
  },
  {
   "cell_type": "code",
   "execution_count": 46,
   "metadata": {
    "ExecuteTime": {
     "end_time": "2020-03-27T17:05:08.053083Z",
     "start_time": "2020-03-27T17:05:07.835635Z"
    }
   },
   "outputs": [
    {
     "name": "stdout",
     "output_type": "stream",
     "text": [
      "the correlation is higher than 0.7 with marital_married \n",
      " marital_married    1.000000\n",
      "marital_single    -0.773785\n",
      "Name: marital_married, dtype: float64 \n",
      "\n",
      "the correlation is higher than 0.7 with marital_single \n",
      " marital_married   -0.773785\n",
      "marital_single     1.000000\n",
      "Name: marital_single, dtype: float64 \n",
      "\n"
     ]
    }
   ],
   "source": [
    "strongCorr(features, 0.7)"
   ]
  },
  {
   "cell_type": "code",
   "execution_count": 47,
   "metadata": {
    "ExecuteTime": {
     "end_time": "2020-03-27T17:05:08.270400Z",
     "start_time": "2020-03-27T17:05:08.054051Z"
    }
   },
   "outputs": [],
   "source": [
    "feature_list, corrCount =strongCorr1(features, 0.7)"
   ]
  },
  {
   "cell_type": "code",
   "execution_count": 48,
   "metadata": {
    "ExecuteTime": {
     "end_time": "2020-03-27T17:05:08.946412Z",
     "start_time": "2020-03-27T17:05:08.939430Z"
    }
   },
   "outputs": [
    {
     "name": "stdout",
     "output_type": "stream",
     "text": [
      "marital_married\n",
      "[[ 1.         -0.04339778]\n",
      " [-0.04339778  1.        ]]\n",
      "\n",
      "\n",
      "marital_single\n",
      "[[1.        0.0541335]\n",
      " [0.0541335 1.       ]]\n",
      "\n",
      "\n"
     ]
    }
   ],
   "source": [
    "corrcoef_target(feature_list)"
   ]
  },
  {
   "cell_type": "code",
   "execution_count": 49,
   "metadata": {
    "ExecuteTime": {
     "end_time": "2020-03-27T17:05:13.946965Z",
     "start_time": "2020-03-27T17:05:13.939980Z"
    }
   },
   "outputs": [],
   "source": [
    "features.drop('marital_single', axis = 1, inplace= True)"
   ]
  },
  {
   "cell_type": "code",
   "execution_count": 50,
   "metadata": {
    "ExecuteTime": {
     "end_time": "2020-03-27T17:05:15.258230Z",
     "start_time": "2020-03-27T17:05:14.580851Z"
    }
   },
   "outputs": [
    {
     "data": {
      "text/plain": [
       "<matplotlib.axes._subplots.AxesSubplot at 0x23879c43c88>"
      ]
     },
     "execution_count": 50,
     "metadata": {},
     "output_type": "execute_result"
    },
    {
     "data": {
      "image/png": "[encoded data removed]",
      "text/plain": [
       "<Figure size 432x288 with 2 Axes>"
      ]
     },
     "metadata": {
      "needs_background": "light"
     },
     "output_type": "display_data"
    }
   ],
   "source": [
    "sns.heatmap(features.corr(), center =0)"
   ]
  },
  {
   "cell_type": "code",
   "execution_count": 51,
   "metadata": {
    "ExecuteTime": {
     "end_time": "2020-03-27T17:05:16.474089Z",
     "start_time": "2020-03-27T17:05:16.267678Z"
    },
    "scrolled": true
   },
   "outputs": [
    {
     "data": {
      "text/plain": [
       "age                              0.030399\n",
       "campaign                        -0.066357\n",
       "previous                         0.230181\n",
       "cons_price_idx                  -0.136211\n",
       "cons_conf_idx                    0.054878\n",
       "euribor3m                       -0.307771\n",
       "job_blue-collar                 -0.074423\n",
       "job_entrepreneur                -0.016644\n",
       "job_housemaid                   -0.006505\n",
       "job_management                  -0.000419\n",
       "job_retired                      0.092221\n",
       "job_self-employed               -0.004663\n",
       "job_services                    -0.032301\n",
       "job_student                      0.093955\n",
       "job_technician                  -0.006149\n",
       "job_unemployed                   0.014752\n",
       "job_unknown                     -0.000151\n",
       "marital_married                 -0.043398\n",
       "marital_unknown                  0.005211\n",
       "education_basic.6y              -0.023517\n",
       "education_basic.9y              -0.045135\n",
       "education_high.school           -0.007452\n",
       "education_illiterate             0.007246\n",
       "education_professional.course    0.001003\n",
       "education_university.degree      0.050364\n",
       "education_unknown                0.021430\n",
       "default_unknown                 -0.099293\n",
       "default_yes                     -0.003041\n",
       "housing_yes                      0.011743\n",
       "loan_unknown                    -0.002270\n",
       "loan_yes                        -0.004466\n",
       "contact_telephone               -0.144773\n",
       "month_aug                       -0.008813\n",
       "month_dec                        0.079303\n",
       "month_jul                       -0.032230\n",
       "month_jun                       -0.009182\n",
       "month_mar                        0.144014\n",
       "month_may                       -0.108271\n",
       "month_nov                       -0.011796\n",
       "month_oct                        0.137366\n",
       "month_sep                        0.126067\n",
       "day_of_week_mon                 -0.021265\n",
       "day_of_week_thu                  0.013888\n",
       "day_of_week_tue                  0.008046\n",
       "day_of_week_wed                  0.006302\n",
       "pdays_less_2week                 0.118509\n",
       "pdays_less_3week                 0.051457\n",
       "pdays_less_4week                 0.027513\n",
       "poutcome_success                 0.316269\n",
       "y                                1.000000\n",
       "Name: y, dtype: float64"
      ]
     },
     "execution_count": 51,
     "metadata": {},
     "output_type": "execute_result"
    }
   ],
   "source": [
    "pd.concat([features, target],axis=1).corr().y"
   ]
  },
  {
   "cell_type": "markdown",
   "metadata": {},
   "source": [
    "#### create `result` object to save the data"
   ]
  },
  {
   "cell_type": "code",
   "execution_count": 52,
   "metadata": {
    "ExecuteTime": {
     "end_time": "2020-03-27T17:05:44.736296Z",
     "start_time": "2020-03-27T17:05:44.732307Z"
    }
   },
   "outputs": [],
   "source": [
    "data_before_scaled = result()\n",
    "data_before_scaled.data ={'df':df,\n",
    "                         'features':features,\n",
    "                         'target':target}\n",
    "data_before_scaled.note = \"\"\"df: dummie variable step is done but no colunms \n",
    "                                    are dropped for removing collinearity\n",
    "                            features: dummie variable step \n",
    "                                        + removing columns for preventing collinearity\n",
    "                                \n",
    "                                \"\"\""
   ]
  },
  {
   "cell_type": "code",
   "execution_count": 53,
   "metadata": {
    "ExecuteTime": {
     "end_time": "2020-03-27T17:05:46.040912Z",
     "start_time": "2020-03-27T17:05:46.036924Z"
    }
   },
   "outputs": [],
   "source": [
    "Results['data_before_scaled']=data_before_scaled"
   ]
  },
  {
   "cell_type": "markdown",
   "metadata": {},
   "source": [
    "# Modeling and in-depth analysis"
   ]
  },
  {
   "cell_type": "code",
   "execution_count": 106,
   "metadata": {
    "ExecuteTime": {
     "end_time": "2019-10-28T01:49:33.205514Z",
     "start_time": "2019-10-28T01:49:33.095807Z"
    }
   },
   "outputs": [
    {
     "data": {
      "text/plain": [
       "(array([36548.,     0.,     0.,     0.,     0.,     0.,     0.,     0.,\n",
       "            0.,  4640.]),\n",
       " array([0. , 0.1, 0.2, 0.3, 0.4, 0.5, 0.6, 0.7, 0.8, 0.9, 1. ]),\n",
       " <a list of 10 Patch objects>)"
      ]
     },
     "execution_count": 106,
     "metadata": {},
     "output_type": "execute_result"
    },
    {
     "data": {
      "image/png": "[encoded data removed]",
      "text/plain": [
       "<Figure size 432x288 with 1 Axes>"
      ]
     },
     "metadata": {},
     "output_type": "display_data"
    }
   ],
   "source": [
    "plt.hist(target)"
   ]
  },
  {
   "cell_type": "markdown",
   "metadata": {},
   "source": [
    "#### Creating Training and Testing Sets"
   ]
  },
  {
   "cell_type": "code",
   "execution_count": 161,
   "metadata": {
    "ExecuteTime": {
     "end_time": "2019-10-29T02:54:58.112420Z",
     "start_time": "2019-10-29T02:54:58.099432Z"
    }
   },
   "outputs": [],
   "source": [
    "X_train, X_test, y_train, y_test = train_test_split(features, target, test_size = 0.25, random_state = 123)"
   ]
  },
  {
   "cell_type": "markdown",
   "metadata": {},
   "source": [
    "#### Normalizing the Data"
   ]
  },
  {
   "cell_type": "code",
   "execution_count": 162,
   "metadata": {
    "ExecuteTime": {
     "end_time": "2019-10-29T02:54:59.490779Z",
     "start_time": "2019-10-29T02:54:59.420516Z"
    }
   },
   "outputs": [
    {
     "name": "stderr",
     "output_type": "stream",
     "text": [
      "C:\\Users\\woogu\\Anaconda3\\lib\\site-packages\\sklearn\\preprocessing\\data.py:645: DataConversionWarning: Data with input dtype uint8, int64, float64 were all converted to float64 by StandardScaler.\n",
      "  return self.partial_fit(X, y)\n",
      "C:\\Users\\woogu\\Anaconda3\\lib\\site-packages\\sklearn\\base.py:464: DataConversionWarning: Data with input dtype uint8, int64, float64 were all converted to float64 by StandardScaler.\n",
      "  return self.fit(X, **fit_params).transform(X)\n",
      "C:\\Users\\woogu\\Anaconda3\\lib\\site-packages\\ipykernel_launcher.py:3: DataConversionWarning: Data with input dtype uint8, int64, float64 were all converted to float64 by StandardScaler.\n",
      "  This is separate from the ipykernel package so we can avoid doing imports until\n"
     ]
    }
   ],
   "source": [
    "scaler = StandardScaler()\n",
    "scaled_X_train = scaler.fit_transform(X_train)\n",
    "scaled_X_test = scaler.transform(X_test)\n",
    "scaled_df_train = pd.DataFrame(scaled_X_train, columns = features.columns)\n"
   ]
  },
  {
   "cell_type": "code",
   "execution_count": 163,
   "metadata": {
    "ExecuteTime": {
     "end_time": "2019-10-29T02:55:00.725975Z",
     "start_time": "2019-10-29T02:55:00.710031Z"
    }
   },
   "outputs": [
    {
     "data": {
      "text/html": [
       "<div>\n",
       "<style scoped>\n",
       "    .dataframe tbody tr th:only-of-type {\n",
       "        vertical-align: middle;\n",
       "    }\n",
       "\n",
       "    .dataframe tbody tr th {\n",
       "        vertical-align: top;\n",
       "    }\n",
       "\n",
       "    .dataframe thead th {\n",
       "        text-align: right;\n",
       "    }\n",
       "</style>\n",
       "<table border=\"1\" class=\"dataframe\">\n",
       "  <thead>\n",
       "    <tr style=\"text-align: right;\">\n",
       "      <th></th>\n",
       "      <th>age</th>\n",
       "      <th>campaign</th>\n",
       "      <th>previous</th>\n",
       "      <th>cons_price_idx</th>\n",
       "      <th>cons_conf_idx</th>\n",
       "      <th>euribor3m</th>\n",
       "      <th>job_blue-collar</th>\n",
       "      <th>job_entrepreneur</th>\n",
       "      <th>job_housemaid</th>\n",
       "      <th>job_management</th>\n",
       "      <th>...</th>\n",
       "      <th>month_oct</th>\n",
       "      <th>month_sep</th>\n",
       "      <th>day_of_week_mon</th>\n",
       "      <th>day_of_week_thu</th>\n",
       "      <th>day_of_week_tue</th>\n",
       "      <th>day_of_week_wed</th>\n",
       "      <th>pdays_less_2week</th>\n",
       "      <th>pdays_less_3week</th>\n",
       "      <th>pdays_less_4week</th>\n",
       "      <th>poutcome_success</th>\n",
       "    </tr>\n",
       "  </thead>\n",
       "  <tbody>\n",
       "    <tr>\n",
       "      <th>0</th>\n",
       "      <td>-1.925718</td>\n",
       "      <td>-0.204298</td>\n",
       "      <td>-0.348389</td>\n",
       "      <td>-1.603700</td>\n",
       "      <td>2.242717</td>\n",
       "      <td>-1.690131</td>\n",
       "      <td>-0.537091</td>\n",
       "      <td>-0.190611</td>\n",
       "      <td>-0.161898</td>\n",
       "      <td>-0.276367</td>\n",
       "      <td>...</td>\n",
       "      <td>-0.133763</td>\n",
       "      <td>-0.115835</td>\n",
       "      <td>-0.509885</td>\n",
       "      <td>-0.515524</td>\n",
       "      <td>-0.495129</td>\n",
       "      <td>2.024858</td>\n",
       "      <td>-0.081332</td>\n",
       "      <td>-0.035095</td>\n",
       "      <td>-0.012723</td>\n",
       "      <td>-0.185817</td>\n",
       "    </tr>\n",
       "    <tr>\n",
       "      <th>1</th>\n",
       "      <td>-0.001517</td>\n",
       "      <td>-0.571621</td>\n",
       "      <td>-0.348389</td>\n",
       "      <td>-0.231279</td>\n",
       "      <td>0.945541</td>\n",
       "      <td>0.769327</td>\n",
       "      <td>-0.537091</td>\n",
       "      <td>-0.190611</td>\n",
       "      <td>-0.161898</td>\n",
       "      <td>-0.276367</td>\n",
       "      <td>...</td>\n",
       "      <td>-0.133763</td>\n",
       "      <td>-0.115835</td>\n",
       "      <td>-0.509885</td>\n",
       "      <td>-0.515524</td>\n",
       "      <td>-0.495129</td>\n",
       "      <td>2.024858</td>\n",
       "      <td>-0.081332</td>\n",
       "      <td>-0.035095</td>\n",
       "      <td>-0.012723</td>\n",
       "      <td>-0.185817</td>\n",
       "    </tr>\n",
       "    <tr>\n",
       "      <th>2</th>\n",
       "      <td>0.190903</td>\n",
       "      <td>0.163025</td>\n",
       "      <td>-0.348389</td>\n",
       "      <td>1.531289</td>\n",
       "      <td>-0.286776</td>\n",
       "      <td>0.764700</td>\n",
       "      <td>1.861881</td>\n",
       "      <td>-0.190611</td>\n",
       "      <td>-0.161898</td>\n",
       "      <td>-0.276367</td>\n",
       "      <td>...</td>\n",
       "      <td>-0.133763</td>\n",
       "      <td>-0.115835</td>\n",
       "      <td>-0.509885</td>\n",
       "      <td>-0.515524</td>\n",
       "      <td>-0.495129</td>\n",
       "      <td>-0.493862</td>\n",
       "      <td>-0.081332</td>\n",
       "      <td>-0.035095</td>\n",
       "      <td>-0.012723</td>\n",
       "      <td>-0.185817</td>\n",
       "    </tr>\n",
       "    <tr>\n",
       "      <th>3</th>\n",
       "      <td>-0.290147</td>\n",
       "      <td>-0.204298</td>\n",
       "      <td>-0.348389</td>\n",
       "      <td>0.586994</td>\n",
       "      <td>-0.481353</td>\n",
       "      <td>0.767014</td>\n",
       "      <td>-0.537091</td>\n",
       "      <td>5.246289</td>\n",
       "      <td>-0.161898</td>\n",
       "      <td>-0.276367</td>\n",
       "      <td>...</td>\n",
       "      <td>-0.133763</td>\n",
       "      <td>-0.115835</td>\n",
       "      <td>-0.509885</td>\n",
       "      <td>-0.515524</td>\n",
       "      <td>-0.495129</td>\n",
       "      <td>2.024858</td>\n",
       "      <td>-0.081332</td>\n",
       "      <td>-0.035095</td>\n",
       "      <td>-0.012723</td>\n",
       "      <td>-0.185817</td>\n",
       "    </tr>\n",
       "    <tr>\n",
       "      <th>4</th>\n",
       "      <td>0.768164</td>\n",
       "      <td>0.163025</td>\n",
       "      <td>-0.348389</td>\n",
       "      <td>0.718194</td>\n",
       "      <td>0.880682</td>\n",
       "      <td>0.704544</td>\n",
       "      <td>-0.537091</td>\n",
       "      <td>-0.190611</td>\n",
       "      <td>-0.161898</td>\n",
       "      <td>-0.276367</td>\n",
       "      <td>...</td>\n",
       "      <td>-0.133763</td>\n",
       "      <td>-0.115835</td>\n",
       "      <td>-0.509885</td>\n",
       "      <td>1.939773</td>\n",
       "      <td>-0.495129</td>\n",
       "      <td>-0.493862</td>\n",
       "      <td>-0.081332</td>\n",
       "      <td>-0.035095</td>\n",
       "      <td>-0.012723</td>\n",
       "      <td>-0.185817</td>\n",
       "    </tr>\n",
       "  </tbody>\n",
       "</table>\n",
       "<p>5 rows × 49 columns</p>\n",
       "</div>"
      ],
      "text/plain": [
       "        age  campaign  previous  cons_price_idx  cons_conf_idx  euribor3m  \\\n",
       "0 -1.925718 -0.204298 -0.348389       -1.603700       2.242717  -1.690131   \n",
       "1 -0.001517 -0.571621 -0.348389       -0.231279       0.945541   0.769327   \n",
       "2  0.190903  0.163025 -0.348389        1.531289      -0.286776   0.764700   \n",
       "3 -0.290147 -0.204298 -0.348389        0.586994      -0.481353   0.767014   \n",
       "4  0.768164  0.163025 -0.348389        0.718194       0.880682   0.704544   \n",
       "\n",
       "   job_blue-collar  job_entrepreneur  job_housemaid  job_management  ...  \\\n",
       "0        -0.537091         -0.190611      -0.161898       -0.276367  ...   \n",
       "1        -0.537091         -0.190611      -0.161898       -0.276367  ...   \n",
       "2         1.861881         -0.190611      -0.161898       -0.276367  ...   \n",
       "3        -0.537091          5.246289      -0.161898       -0.276367  ...   \n",
       "4        -0.537091         -0.190611      -0.161898       -0.276367  ...   \n",
       "\n",
       "   month_oct  month_sep  day_of_week_mon  day_of_week_thu  day_of_week_tue  \\\n",
       "0  -0.133763  -0.115835        -0.509885        -0.515524        -0.495129   \n",
       "1  -0.133763  -0.115835        -0.509885        -0.515524        -0.495129   \n",
       "2  -0.133763  -0.115835        -0.509885        -0.515524        -0.495129   \n",
       "3  -0.133763  -0.115835        -0.509885        -0.515524        -0.495129   \n",
       "4  -0.133763  -0.115835        -0.509885         1.939773        -0.495129   \n",
       "\n",
       "   day_of_week_wed  pdays_less_2week  pdays_less_3week  pdays_less_4week  \\\n",
       "0         2.024858         -0.081332         -0.035095         -0.012723   \n",
       "1         2.024858         -0.081332         -0.035095         -0.012723   \n",
       "2        -0.493862         -0.081332         -0.035095         -0.012723   \n",
       "3         2.024858         -0.081332         -0.035095         -0.012723   \n",
       "4        -0.493862         -0.081332         -0.035095         -0.012723   \n",
       "\n",
       "   poutcome_success  \n",
       "0         -0.185817  \n",
       "1         -0.185817  \n",
       "2         -0.185817  \n",
       "3         -0.185817  \n",
       "4         -0.185817  \n",
       "\n",
       "[5 rows x 49 columns]"
      ]
     },
     "execution_count": 163,
     "metadata": {},
     "output_type": "execute_result"
    }
   ],
   "source": [
    "scaled_df_train.head()"
   ]
  },
  {
   "cell_type": "markdown",
   "metadata": {},
   "source": [
    "#### Creat `result` object to save the data"
   ]
  },
  {
   "cell_type": "code",
   "execution_count": 164,
   "metadata": {
    "ExecuteTime": {
     "end_time": "2019-10-29T02:55:08.319800Z",
     "start_time": "2019-10-29T02:55:08.315831Z"
    }
   },
   "outputs": [],
   "source": [
    "data_preprocessed = result({'random_state':123, 'test_size':0.25})\n",
    "data_preprocessed.data = {'scaled_X_train':scaled_X_train,\n",
    "                         'scaled_X_test':scaled_X_test,\n",
    "                         'scaled_df_train':scaled_df_train,\n",
    "                         'y_train':y_train,\n",
    "                         'y_test':y_test}"
   ]
  },
  {
   "cell_type": "markdown",
   "metadata": {},
   "source": [
    "#### Add the object to the dictionary `Results` to be pickled"
   ]
  },
  {
   "cell_type": "code",
   "execution_count": 165,
   "metadata": {
    "ExecuteTime": {
     "end_time": "2019-10-29T02:55:19.033129Z",
     "start_time": "2019-10-29T02:55:19.029145Z"
    }
   },
   "outputs": [],
   "source": [
    "Results['data_preprocessed'] = data_preprocessed"
   ]
  },
  {
   "cell_type": "markdown",
   "metadata": {},
   "source": [
    "#### Evaluating models"
   ]
  },
  {
   "cell_type": "code",
   "execution_count": 166,
   "metadata": {
    "ExecuteTime": {
     "end_time": "2019-10-29T02:55:21.784234Z",
     "start_time": "2019-10-29T02:55:21.780241Z"
    }
   },
   "outputs": [],
   "source": [
    "def print_metrics(labels, preds):\n",
    "    print(\"Precision Score: {}\".format(precision_score(labels, preds)))\n",
    "    print(\"Recall Score: {}\".format(recall_score(labels,preds)))\n",
    "    print(\"Accuracy Score: {}\".format(accuracy_score(labels, preds)))\n",
    "    print(\"F1 Score: {}\".format(f1_score(labels, preds)))\n",
    "    "
   ]
  },
  {
   "cell_type": "markdown",
   "metadata": {},
   "source": [
    "## Dimension Reduction using PCA (Principal Component Analysis)"
   ]
  },
  {
   "cell_type": "code",
   "execution_count": 167,
   "metadata": {
    "ExecuteTime": {
     "end_time": "2019-10-29T02:55:28.187919Z",
     "start_time": "2019-10-29T02:55:28.140075Z"
    }
   },
   "outputs": [],
   "source": [
    "pca = PCA()\n",
    "X_pca = pca.fit_transform(scaled_X_train)"
   ]
  },
  {
   "cell_type": "code",
   "execution_count": 168,
   "metadata": {
    "ExecuteTime": {
     "end_time": "2019-10-29T02:55:28.946945Z",
     "start_time": "2019-10-29T02:55:28.942955Z"
    }
   },
   "outputs": [
    {
     "data": {
      "text/plain": [
       "49"
      ]
     },
     "execution_count": 168,
     "metadata": {},
     "output_type": "execute_result"
    }
   ],
   "source": [
    "len(X_pca[0])"
   ]
  },
  {
   "cell_type": "markdown",
   "metadata": {},
   "source": [
    "#### Plot the cumulative sum of information contained by number of columns"
   ]
  },
  {
   "cell_type": "code",
   "execution_count": 170,
   "metadata": {
    "ExecuteTime": {
     "end_time": "2019-10-29T02:56:07.412587Z",
     "start_time": "2019-10-29T02:56:07.328841Z"
    }
   },
   "outputs": [
    {
     "data": {
      "text/plain": [
       "[<matplotlib.lines.Line2D at 0x227bccbfa58>]"
      ]
     },
     "execution_count": 170,
     "metadata": {},
     "output_type": "execute_result"
    },
    {
     "data": {
      "image/png": "[encoded data removed]",
      "text/plain": [
       "<Figure size 432x288 with 1 Axes>"
      ]
     },
     "metadata": {},
     "output_type": "display_data"
    }
   ],
   "source": [
    "plt.plot(range(1,50), pca.explained_variance_ratio_.cumsum())"
   ]
  },
  {
   "cell_type": "markdown",
   "metadata": {},
   "source": [
    "#### Determine the Number of Features to Capture 95% of the Datasets Variance"
   ]
  },
  {
   "cell_type": "code",
   "execution_count": 171,
   "metadata": {
    "ExecuteTime": {
     "end_time": "2019-10-29T02:56:11.097062Z",
     "start_time": "2019-10-29T02:56:11.093084Z"
    }
   },
   "outputs": [
    {
     "data": {
      "text/plain": [
       "(30891, 49)"
      ]
     },
     "execution_count": 171,
     "metadata": {},
     "output_type": "execute_result"
    }
   ],
   "source": [
    "scaled_X_train.shape"
   ]
  },
  {
   "cell_type": "code",
   "execution_count": 172,
   "metadata": {
    "ExecuteTime": {
     "end_time": "2019-10-29T02:56:13.969698Z",
     "start_time": "2019-10-29T02:56:13.965738Z"
    }
   },
   "outputs": [
    {
     "name": "stdout",
     "output_type": "stream",
     "text": [
      "Number features: 40\t Total Variance Explained:0.9561945269726482\n"
     ]
    }
   ],
   "source": [
    "total_explained_variance = pca.explained_variance_ratio_.cumsum()\n",
    "n_over_95 = len(total_explained_variance[total_explained_variance>=.95])\n",
    "\n",
    "n_to_reach_95 = scaled_X_train.shape[1] - n_over_95 + 1\n",
    "\n",
    "print(f\"Number features: {n_to_reach_95}\\t Total Variance Explained:{total_explained_variance[n_to_reach_95-1]}\")"
   ]
  },
  {
   "cell_type": "code",
   "execution_count": 173,
   "metadata": {
    "ExecuteTime": {
     "end_time": "2019-10-29T02:56:14.916607Z",
     "start_time": "2019-10-29T02:56:14.869301Z"
    }
   },
   "outputs": [
    {
     "data": {
      "text/plain": [
       "0.9561945269726482"
      ]
     },
     "execution_count": 173,
     "metadata": {},
     "output_type": "execute_result"
    }
   ],
   "source": [
    "pca = PCA(n_components = n_to_reach_95)\n",
    "X_pca_train =pca.fit_transform(scaled_X_train)\n",
    "pca.explained_variance_ratio_.cumsum()[-1]"
   ]
  },
  {
   "cell_type": "code",
   "execution_count": 174,
   "metadata": {
    "ExecuteTime": {
     "end_time": "2019-10-29T02:56:15.866499Z",
     "start_time": "2019-10-29T02:56:15.856648Z"
    }
   },
   "outputs": [],
   "source": [
    "X_pca_test = pca.transform(scaled_X_test)"
   ]
  },
  {
   "cell_type": "markdown",
   "metadata": {},
   "source": [
    "#### Create `result` object to save the data"
   ]
  },
  {
   "cell_type": "code",
   "execution_count": 175,
   "metadata": {
    "ExecuteTime": {
     "end_time": "2019-10-29T02:56:16.673152Z",
     "start_time": "2019-10-29T02:56:16.669163Z"
    }
   },
   "outputs": [],
   "source": [
    "PCA = result({'n_to_reach_95':n_to_reach_95} )\n",
    "PCA.data ={'X_pca_train':X_pca_train, 'X_pca_test':X_pca_test}"
   ]
  },
  {
   "cell_type": "code",
   "execution_count": 176,
   "metadata": {
    "ExecuteTime": {
     "end_time": "2019-10-29T02:56:17.477446Z",
     "start_time": "2019-10-29T02:56:17.470470Z"
    },
    "scrolled": true
   },
   "outputs": [
    {
     "data": {
      "text/plain": [
       "{'params': {'n_to_reach_95': 40},\n",
       " 'preds': None,\n",
       " 'data': {'X_pca_train': array([[ 2.77529357, -0.91374374, -2.36794077, ...,  0.23532002,\n",
       "          -1.02199317, -0.20040633],\n",
       "         [ 0.82529707,  2.36628367, -0.37294761, ...,  0.06737178,\n",
       "           0.38125493, -0.28286083],\n",
       "         [-3.07809402, -0.59044314,  1.20370447, ...,  0.51238014,\n",
       "          -0.36076321, -0.9069181 ],\n",
       "         ...,\n",
       "         [-0.13738743,  1.55806785, -0.25399493, ..., -0.34140088,\n",
       "           0.57310839,  0.14442504],\n",
       "         [ 2.30963171, -2.21408628, -1.26832283, ..., -1.52545113,\n",
       "          -0.39136641, -0.08104255],\n",
       "         [-0.51808354,  1.02308781, -1.27757383, ..., -0.34199245,\n",
       "          -1.19633766,  1.17453259]]),\n",
       "  'X_pca_test': array([[-2.47887651, -0.55651182, -1.16409644, ..., -0.19246588,\n",
       "          -0.50087939, -0.23263253],\n",
       "         [ 1.74021481, -0.8936656 ,  2.93644176, ...,  1.30851156,\n",
       "          -0.09782119,  0.39371562],\n",
       "         [-2.75962565, -1.51622599,  2.2717859 , ..., -0.01779819,\n",
       "          -0.05744747,  0.35710906],\n",
       "         ...,\n",
       "         [-0.59922242, -0.15755346, -2.38111811, ...,  0.16954631,\n",
       "           0.66564527,  0.17538809],\n",
       "         [-0.59689244,  0.08092228, -1.09972169, ...,  0.07841431,\n",
       "          -0.19441586, -1.23550394],\n",
       "         [ 1.50087397, -2.95869908, -0.76849926, ...,  0.0757266 ,\n",
       "           0.96673799, -0.40988838]])},\n",
       " 'note': None}"
      ]
     },
     "execution_count": 176,
     "metadata": {},
     "output_type": "execute_result"
    }
   ],
   "source": [
    "PCA.__dict__"
   ]
  },
  {
   "cell_type": "markdown",
   "metadata": {},
   "source": [
    "#### Add the object to the dictionary `Result` to be pickled"
   ]
  },
  {
   "cell_type": "code",
   "execution_count": 177,
   "metadata": {
    "ExecuteTime": {
     "end_time": "2019-10-29T02:56:19.382969Z",
     "start_time": "2019-10-29T02:56:19.379976Z"
    }
   },
   "outputs": [],
   "source": [
    "Results['PCA'] = PCA"
   ]
  },
  {
   "cell_type": "markdown",
   "metadata": {},
   "source": [
    "## KNN(K Nearest Neighbors)"
   ]
  },
  {
   "cell_type": "code",
   "execution_count": 178,
   "metadata": {
    "ExecuteTime": {
     "end_time": "2019-10-29T02:56:42.383922Z",
     "start_time": "2019-10-29T02:56:21.421816Z"
    }
   },
   "outputs": [],
   "source": [
    "clf_knn = KNeighborsClassifier()\n",
    "clf_knn.fit(scaled_X_train, y_train)\n",
    "test_preds = clf_knn.predict(scaled_X_test)"
   ]
  },
  {
   "cell_type": "code",
   "execution_count": 179,
   "metadata": {
    "ExecuteTime": {
     "end_time": "2019-10-29T02:56:43.091909Z",
     "start_time": "2019-10-29T02:56:43.080906Z"
    }
   },
   "outputs": [
    {
     "name": "stdout",
     "output_type": "stream",
     "text": [
      "Precision Score: 0.5168918918918919\n",
      "Recall Score: 0.2586644125105664\n",
      "Accuracy Score: 0.8870544818879286\n",
      "F1 Score: 0.3447887323943662\n"
     ]
    }
   ],
   "source": [
    "print_metrics(y_test, test_preds)"
   ]
  },
  {
   "cell_type": "code",
   "execution_count": 180,
   "metadata": {
    "ExecuteTime": {
     "end_time": "2019-10-29T02:56:43.814619Z",
     "start_time": "2019-10-29T02:56:43.808664Z"
    }
   },
   "outputs": [],
   "source": [
    "def find_best_k(X_train, y_train, X_test, y_test, min_k=1, max_k=25):\n",
    "    #Your code here\n",
    "    best_k =0\n",
    "    best_score = 0\n",
    "    scores =[]\n",
    "    for k in range(min_k, max_k+1, 2):\n",
    "        knn = KNeighborsClassifier(n_neighbors=k)\n",
    "        knn.fit(X_train, y_train)\n",
    "        preds = knn.predict(X_test)\n",
    "        f1 = f1_score(y_test, preds)\n",
    "        scores.append(f1)\n",
    "        if f1>best_score:\n",
    "            best_k =k\n",
    "            best_score = f1\n",
    "    print(\"Best Value for k:{}\".format(best_k))\n",
    "    print(\"F1-Score:{}\".format(best_score))\n",
    "    return scores"
   ]
  },
  {
   "cell_type": "code",
   "execution_count": 181,
   "metadata": {
    "ExecuteTime": {
     "end_time": "2019-10-29T02:58:50.107359Z",
     "start_time": "2019-10-29T02:56:44.495920Z"
    }
   },
   "outputs": [
    {
     "name": "stdout",
     "output_type": "stream",
     "text": [
      "Best Value for k:11\n",
      "F1-Score:0.3460166468489893\n"
     ]
    },
    {
     "data": {
      "text/plain": [
       "[0.3176265270506108,\n",
       " 0.34548335974643424,\n",
       " 0.3447887323943662,\n",
       " 0.3350724637681159,\n",
       " 0.32959243945658595,\n",
       " 0.3460166468489893]"
      ]
     },
     "execution_count": 181,
     "metadata": {},
     "output_type": "execute_result"
    }
   ],
   "source": [
    "find_best_k(scaled_X_train, y_train, scaled_X_test, y_test, min_k = 1, max_k = 11)"
   ]
  },
  {
   "cell_type": "code",
   "execution_count": 182,
   "metadata": {
    "ExecuteTime": {
     "end_time": "2019-10-29T03:01:20.914806Z",
     "start_time": "2019-10-29T02:58:50.872712Z"
    }
   },
   "outputs": [
    {
     "name": "stdout",
     "output_type": "stream",
     "text": [
      "Best Value for k:17\n",
      "F1-Score:0.3433476394849785\n"
     ]
    },
    {
     "data": {
      "text/plain": [
       "[0.3395320935812837,\n",
       " 0.33495736906211937,\n",
       " 0.3433476394849785,\n",
       " 0.3341553637484587,\n",
       " 0.3401360544217687,\n",
       " 0.32630272952853595,\n",
       " 0.32961586121437425]"
      ]
     },
     "execution_count": 182,
     "metadata": {},
     "output_type": "execute_result"
    }
   ],
   "source": [
    "find_best_k(scaled_X_train, y_train, scaled_X_test, y_test, min_k = 13, max_k = 25)"
   ]
  },
  {
   "cell_type": "markdown",
   "metadata": {},
   "source": [
    "From searches of optimal K from 1 to 25, we found that F1 is maximized when K = 3. "
   ]
  },
  {
   "cell_type": "code",
   "execution_count": 183,
   "metadata": {
    "ExecuteTime": {
     "end_time": "2019-10-29T03:01:23.253523Z",
     "start_time": "2019-10-29T03:01:21.644825Z"
    }
   },
   "outputs": [
    {
     "data": {
      "text/plain": [
       "KNeighborsClassifier(algorithm='auto', leaf_size=30, metric='minkowski',\n",
       "           metric_params=None, n_jobs=None, n_neighbors=3, p=2,\n",
       "           weights='uniform')"
      ]
     },
     "execution_count": 183,
     "metadata": {},
     "output_type": "execute_result"
    }
   ],
   "source": [
    "clf_knn = KNeighborsClassifier(n_neighbors=3)\n",
    "clf_knn.fit(scaled_X_train, y_train)\n"
   ]
  },
  {
   "cell_type": "code",
   "execution_count": 184,
   "metadata": {
    "ExecuteTime": {
     "end_time": "2019-10-29T03:02:21.092893Z",
     "start_time": "2019-10-29T03:01:23.898797Z"
    },
    "scrolled": false
   },
   "outputs": [
    {
     "name": "stdout",
     "output_type": "stream",
     "text": [
      "Precision Score: 0.7503573130061935\n",
      "Recall Score: 0.4555973387330055\n",
      "Accuracy Score: 0.9221132368651064\n",
      "F1 Score: 0.5669546436285098\n"
     ]
    }
   ],
   "source": [
    "train_preds = clf_knn.predict(scaled_X_train)\n",
    "print_metrics(y_train, train_preds)"
   ]
  },
  {
   "cell_type": "code",
   "execution_count": 185,
   "metadata": {
    "ExecuteTime": {
     "end_time": "2019-10-29T03:02:40.303551Z",
     "start_time": "2019-10-29T03:02:21.767105Z"
    }
   },
   "outputs": [
    {
     "name": "stdout",
     "output_type": "stream",
     "text": [
      "Precision Score: 0.46056338028169014\n",
      "Recall Score: 0.2764158918005072\n",
      "Accuracy Score: 0.8796736913664174\n",
      "F1 Score: 0.34548335974643424\n"
     ]
    }
   ],
   "source": [
    "test_preds = clf_knn.predict(scaled_X_test)\n",
    "print_metrics(y_test, test_preds)"
   ]
  },
  {
   "cell_type": "code",
   "execution_count": 186,
   "metadata": {
    "ExecuteTime": {
     "end_time": "2019-10-29T03:03:55.687491Z",
     "start_time": "2019-10-29T03:02:40.952161Z"
    },
    "scrolled": true
   },
   "outputs": [
    {
     "name": "stdout",
     "output_type": "stream",
     "text": [
      "Traning Accuracy:0.9221132368651064\t Testing Accuracy:0.8796736913664174\n"
     ]
    }
   ],
   "source": [
    "clf_knn.fit(scaled_X_train, y_train)\n",
    "train_knn_acc = clf_knn.score(scaled_X_train, y_train)\n",
    "test_knn_acc = clf_knn.score(scaled_X_test, y_test)\n",
    "print(f'Traning Accuracy:{train_knn_acc}\\t Testing Accuracy:{test_knn_acc}' )"
   ]
  },
  {
   "cell_type": "markdown",
   "metadata": {},
   "source": [
    "#### Create `result` object to save the data"
   ]
  },
  {
   "cell_type": "code",
   "execution_count": 187,
   "metadata": {
    "ExecuteTime": {
     "end_time": "2019-10-29T03:03:56.331765Z",
     "start_time": "2019-10-29T03:03:56.327746Z"
    }
   },
   "outputs": [],
   "source": [
    "KNN_optimized = result({'k':3},\n",
    "                       {'train_preds':train_preds,'test_preds':test_preds},\n",
    "                      )"
   ]
  },
  {
   "cell_type": "code",
   "execution_count": 188,
   "metadata": {
    "ExecuteTime": {
     "end_time": "2019-10-29T03:03:57.023885Z",
     "start_time": "2019-10-29T03:03:57.000947Z"
    }
   },
   "outputs": [
    {
     "name": "stdout",
     "output_type": "stream",
     "text": [
      "Train set\n",
      "\n",
      "Precision Score: 0.7503573130061935\n",
      "Recall Score: 0.4555973387330055\n",
      "Accuracy Score: 0.9221132368651064\n",
      "F1 Score: 0.5669546436285098\n",
      "\n",
      "\n",
      "Test set\n",
      "\n",
      "Precision Score: 0.46056338028169014\n",
      "Recall Score: 0.2764158918005072\n",
      "Accuracy Score: 0.8796736913664174\n",
      "F1 Score: 0.34548335974643424\n",
      "\n",
      "\n"
     ]
    }
   ],
   "source": [
    "KNN_optimized.print_metrics()"
   ]
  },
  {
   "cell_type": "markdown",
   "metadata": {},
   "source": [
    "#### Add the object to the dictionary `Result` to be pickled"
   ]
  },
  {
   "cell_type": "code",
   "execution_count": 189,
   "metadata": {
    "ExecuteTime": {
     "end_time": "2019-10-29T03:03:57.687124Z",
     "start_time": "2019-10-29T03:03:57.684132Z"
    }
   },
   "outputs": [],
   "source": [
    "Results['KNN_optimized'] = KNN_optimized"
   ]
  },
  {
   "cell_type": "markdown",
   "metadata": {},
   "source": [
    "### KNN with PCA"
   ]
  },
  {
   "cell_type": "code",
   "execution_count": 190,
   "metadata": {
    "ExecuteTime": {
     "end_time": "2019-10-29T03:05:00.325629Z",
     "start_time": "2019-10-29T03:03:58.347358Z"
    }
   },
   "outputs": [
    {
     "name": "stdout",
     "output_type": "stream",
     "text": [
      "Best Value for k:3\n",
      "F1-Score:0.32085561497326204\n"
     ]
    },
    {
     "data": {
      "text/plain": [
       "[0.29594063727629855,\n",
       " 0.32085561497326204,\n",
       " 0.3125720876585929,\n",
       " 0.3206197854588796,\n",
       " 0.30466830466830463,\n",
       " 0.30683918669131244]"
      ]
     },
     "execution_count": 190,
     "metadata": {},
     "output_type": "execute_result"
    }
   ],
   "source": [
    "find_best_k(X_pca_train, y_train, X_pca_test, y_test, min_k = 1, max_k = 11)"
   ]
  },
  {
   "cell_type": "markdown",
   "metadata": {},
   "source": [
    "Since the optimal k value is still 3 we keep using the same setup. "
   ]
  },
  {
   "cell_type": "code",
   "execution_count": 191,
   "metadata": {
    "ExecuteTime": {
     "end_time": "2019-10-29T03:05:01.106544Z",
     "start_time": "2019-10-29T03:05:01.019775Z"
    }
   },
   "outputs": [
    {
     "data": {
      "text/plain": [
       "KNeighborsClassifier(algorithm='auto', leaf_size=30, metric='minkowski',\n",
       "           metric_params=None, n_jobs=None, n_neighbors=3, p=2,\n",
       "           weights='uniform')"
      ]
     },
     "execution_count": 191,
     "metadata": {},
     "output_type": "execute_result"
    }
   ],
   "source": [
    "clf_knn.fit(X_pca_train, y_train)"
   ]
  },
  {
   "cell_type": "code",
   "execution_count": 192,
   "metadata": {
    "ExecuteTime": {
     "end_time": "2019-10-29T03:05:28.345724Z",
     "start_time": "2019-10-29T03:05:01.760813Z"
    }
   },
   "outputs": [],
   "source": [
    "train_preds_pca = clf_knn.predict(X_pca_train)\n",
    "test_preds_pca = clf_knn.predict(X_pca_test)"
   ]
  },
  {
   "cell_type": "markdown",
   "metadata": {},
   "source": [
    "#### Create `result` object to save the data"
   ]
  },
  {
   "cell_type": "code",
   "execution_count": 193,
   "metadata": {
    "ExecuteTime": {
     "end_time": "2019-10-29T03:05:29.049841Z",
     "start_time": "2019-10-29T03:05:29.045852Z"
    }
   },
   "outputs": [],
   "source": [
    "KNN_PCA = result({'k':3,'n_to_reach_95':n_to_reach_95}, \n",
    "                {'train_preds':train_preds_pca,'test_preds':test_preds_pca})\n",
    "KNN_PCA.data =PCA.data"
   ]
  },
  {
   "cell_type": "code",
   "execution_count": 194,
   "metadata": {
    "ExecuteTime": {
     "end_time": "2019-10-29T03:05:29.712071Z",
     "start_time": "2019-10-29T03:05:29.690129Z"
    },
    "scrolled": true
   },
   "outputs": [
    {
     "name": "stdout",
     "output_type": "stream",
     "text": [
      "Train set\n",
      "\n",
      "Precision Score: 0.7528200098087298\n",
      "Recall Score: 0.44402661266994503\n",
      "Accuracy Score: 0.9214657991000615\n",
      "F1 Score: 0.5585880640465793\n",
      "\n",
      "\n",
      "Test set\n",
      "\n",
      "Precision Score: 0.4366812227074236\n",
      "Recall Score: 0.25359256128486896\n",
      "Accuracy Score: 0.8766631057589589\n",
      "F1 Score: 0.32085561497326204\n",
      "\n",
      "\n"
     ]
    }
   ],
   "source": [
    "KNN_PCA.print_metrics()"
   ]
  },
  {
   "cell_type": "markdown",
   "metadata": {},
   "source": [
    "#### Add the object to the dictionary `Results` to be pickled"
   ]
  },
  {
   "cell_type": "code",
   "execution_count": 195,
   "metadata": {
    "ExecuteTime": {
     "end_time": "2019-10-29T03:05:30.746306Z",
     "start_time": "2019-10-29T03:05:30.741320Z"
    }
   },
   "outputs": [],
   "source": [
    "Results['KNN_PCA']=KNN_PCA"
   ]
  },
  {
   "cell_type": "markdown",
   "metadata": {},
   "source": [
    "## Random Forest"
   ]
  },
  {
   "cell_type": "markdown",
   "metadata": {},
   "source": [
    "#### Constructing function to plot feature importances"
   ]
  },
  {
   "cell_type": "code",
   "execution_count": 196,
   "metadata": {
    "ExecuteTime": {
     "end_time": "2019-10-29T03:05:31.394573Z",
     "start_time": "2019-10-29T03:05:31.388587Z"
    }
   },
   "outputs": [],
   "source": [
    "def plot_feature_importances(model):\n",
    "    n_features = scaled_X_train.shape[1]\n",
    "    plt.figure(figsize=(8,8))\n",
    "    plt.barh(range(n_features), model.feature_importances_, align='center') \n",
    "    plt.yticks(np.arange(n_features), scaled_df_train.columns.values) \n",
    "    plt.xlabel(\"Feature importance\")\n",
    "    plt.ylabel(\"Feature\")"
   ]
  },
  {
   "cell_type": "markdown",
   "metadata": {},
   "source": [
    "#### Baseline random forest model"
   ]
  },
  {
   "cell_type": "code",
   "execution_count": 197,
   "metadata": {
    "ExecuteTime": {
     "end_time": "2019-10-29T03:05:32.088716Z",
     "start_time": "2019-10-29T03:05:32.082731Z"
    }
   },
   "outputs": [],
   "source": [
    "forest = RandomForestClassifier(max_depth = 5, n_estimators =100)"
   ]
  },
  {
   "cell_type": "code",
   "execution_count": 198,
   "metadata": {
    "ExecuteTime": {
     "end_time": "2019-10-29T03:05:33.465064Z",
     "start_time": "2019-10-29T03:05:32.794827Z"
    }
   },
   "outputs": [
    {
     "data": {
      "text/plain": [
       "RandomForestClassifier(bootstrap=True, class_weight=None, criterion='gini',\n",
       "            max_depth=5, max_features='auto', max_leaf_nodes=None,\n",
       "            min_impurity_decrease=0.0, min_impurity_split=None,\n",
       "            min_samples_leaf=1, min_samples_split=2,\n",
       "            min_weight_fraction_leaf=0.0, n_estimators=100, n_jobs=None,\n",
       "            oob_score=False, random_state=None, verbose=0,\n",
       "            warm_start=False)"
      ]
     },
     "execution_count": 198,
     "metadata": {},
     "output_type": "execute_result"
    }
   ],
   "source": [
    "forest.fit(scaled_X_train, y_train)"
   ]
  },
  {
   "cell_type": "code",
   "execution_count": 199,
   "metadata": {
    "ExecuteTime": {
     "end_time": "2019-10-29T03:05:34.337702Z",
     "start_time": "2019-10-29T03:05:34.169153Z"
    }
   },
   "outputs": [],
   "source": [
    "train_preds_forest = forest.predict(scaled_X_train)"
   ]
  },
  {
   "cell_type": "code",
   "execution_count": 200,
   "metadata": {
    "ExecuteTime": {
     "end_time": "2019-10-29T03:05:35.012896Z",
     "start_time": "2019-10-29T03:05:34.996939Z"
    }
   },
   "outputs": [
    {
     "name": "stdout",
     "output_type": "stream",
     "text": [
      "Precision Score: 0.7567567567567568\n",
      "Recall Score: 0.15389065663870408\n",
      "Accuracy Score: 0.8997766339710596\n",
      "F1 Score: 0.2557692307692308\n"
     ]
    }
   ],
   "source": [
    "print_metrics(y_train, train_preds_forest)"
   ]
  },
  {
   "cell_type": "code",
   "execution_count": 201,
   "metadata": {
    "ExecuteTime": {
     "end_time": "2019-10-29T03:05:35.737958Z",
     "start_time": "2019-10-29T03:05:35.667146Z"
    }
   },
   "outputs": [],
   "source": [
    "test_preds_forest = forest.predict(scaled_X_test)"
   ]
  },
  {
   "cell_type": "code",
   "execution_count": 202,
   "metadata": {
    "ExecuteTime": {
     "end_time": "2019-10-29T03:05:36.402181Z",
     "start_time": "2019-10-29T03:05:36.393206Z"
    }
   },
   "outputs": [
    {
     "name": "stdout",
     "output_type": "stream",
     "text": [
      "Precision Score: 0.7777777777777778\n",
      "Recall Score: 0.15976331360946747\n",
      "Accuracy Score: 0.898222783334952\n",
      "F1 Score: 0.2650771388499299\n"
     ]
    }
   ],
   "source": [
    "print_metrics(y_test, test_preds_forest)"
   ]
  },
  {
   "cell_type": "markdown",
   "metadata": {},
   "source": [
    "The accuracy scores and precision scores are pretty high but recall scores are low for both the train and test set. a low recall score means that many of actual positives are predicted to be false negatives. "
   ]
  },
  {
   "cell_type": "code",
   "execution_count": 203,
   "metadata": {
    "ExecuteTime": {
     "end_time": "2019-10-29T03:05:37.541164Z",
     "start_time": "2019-10-29T03:05:37.064410Z"
    },
    "scrolled": true
   },
   "outputs": [
    {
     "data": {
      "image/png": "[encoded data removed]",
      "text/plain": [
       "<Figure size 576x576 with 1 Axes>"
      ]
     },
     "metadata": {},
     "output_type": "display_data"
    }
   ],
   "source": [
    "plot_feature_importances(forest)"
   ]
  },
  {
   "cell_type": "markdown",
   "metadata": {},
   "source": [
    "### Tunning hyper-parameters individually "
   ]
  },
  {
   "cell_type": "markdown",
   "metadata": {},
   "source": [
    "#### Max_depth"
   ]
  },
  {
   "cell_type": "markdown",
   "metadata": {},
   "source": [
    "First we plot the accuracy scores and the F-1 scores with varied `max_depth` value from 1 to 30."
   ]
  },
  {
   "cell_type": "code",
   "execution_count": 204,
   "metadata": {
    "ExecuteTime": {
     "end_time": "2019-10-29T03:06:23.323829Z",
     "start_time": "2019-10-29T03:05:38.243258Z"
    }
   },
   "outputs": [
    {
     "name": "stderr",
     "output_type": "stream",
     "text": [
      "C:\\Users\\woogu\\Anaconda3\\lib\\site-packages\\sklearn\\metrics\\classification.py:1143: UndefinedMetricWarning: F-score is ill-defined and being set to 0.0 due to no predicted samples.\n",
      "  'precision', 'predicted', average, warn_for)\n",
      "C:\\Users\\woogu\\Anaconda3\\lib\\site-packages\\sklearn\\metrics\\classification.py:1143: UndefinedMetricWarning: F-score is ill-defined and being set to 0.0 due to no predicted samples.\n",
      "  'precision', 'predicted', average, warn_for)\n"
     ]
    },
    {
     "data": {
      "image/png": "[encoded data removed]",
      "text/plain": [
       "<Figure size 864x432 with 1 Axes>"
      ]
     },
     "metadata": {},
     "output_type": "display_data"
    },
    {
     "data": {
      "image/png": "[encoded data removed]",
      "text/plain": [
       "<Figure size 864x432 with 1 Axes>"
      ]
     },
     "metadata": {},
     "output_type": "display_data"
    }
   ],
   "source": [
    "max_depths = np.linspace(1,30,30, endpoint= True)\n",
    "accuracy_results = []\n",
    "f1_results = []\n",
    "\n",
    "for max_depth in max_depths:\n",
    "    forest = RandomForestClassifier(max_depth = max_depth, n_estimators =100)\n",
    "    forest.fit(scaled_X_train, y_train)\n",
    "    y_pred = forest.predict(scaled_X_test)\n",
    "    accuracy = accuracy_score(y_test, y_pred)\n",
    "    f1 = f1_score(y_test, y_pred)\n",
    "    f1_results.append(f1)\n",
    "    accuracy_results.append(accuracy)\n",
    "    \n",
    "plt.figure(figsize =(12,6))\n",
    "plt.plot(max_depths, f1_results,'b', label='f1')\n",
    "plt.xlabel('Tree Depth')\n",
    "plt.ylabel('F1-score')\n",
    "plt.legend()\n",
    "plt.show()\n",
    "\n",
    "plt.figure(figsize = (12,6))\n",
    "plt.plot(max_depths, accuracy_results,'r', label = 'accuracy')\n",
    "plt.xlabel('Tree Depth')\n",
    "plt.ylabel('Accuracy')\n",
    "plt.legend()\n",
    "plt.show()"
   ]
  },
  {
   "cell_type": "markdown",
   "metadata": {},
   "source": [
    "It looks like the accuracy and F1 scores are getting steady for max_depth values between 10 to 15 so we plot narrower range of max_depth values."
   ]
  },
  {
   "cell_type": "code",
   "execution_count": 210,
   "metadata": {
    "ExecuteTime": {
     "end_time": "2019-10-29T04:16:41.360337Z",
     "start_time": "2019-10-29T04:16:27.767389Z"
    }
   },
   "outputs": [
    {
     "data": {
      "image/png": "[encoded data removed]",
      "text/plain": [
       "<Figure size 864x432 with 1 Axes>"
      ]
     },
     "metadata": {},
     "output_type": "display_data"
    },
    {
     "data": {
      "image/png": "[encoded data removed]",
      "text/plain": [
       "<Figure size 864x432 with 1 Axes>"
      ]
     },
     "metadata": {},
     "output_type": "display_data"
    }
   ],
   "source": [
    "max_depths = np.linspace(5,15,11, endpoint= True)\n",
    "accuracy_results = []\n",
    "f1_results = []\n",
    "\n",
    "for max_depth in max_depths:\n",
    "    forest = RandomForestClassifier(max_depth = max_depth, n_estimators =100)\n",
    "    forest.fit(scaled_X_train, y_train)\n",
    "    y_pred = forest.predict(scaled_X_test)\n",
    "    accuracy = accuracy_score(y_test, y_pred)\n",
    "    f1 = f1_score(y_test, y_pred)\n",
    "    f1_results.append(f1)\n",
    "    accuracy_results.append(accuracy)\n",
    "    \n",
    "plt.figure(figsize =(12,6))\n",
    "plt.plot(max_depths, f1_results,'b', label='f1')\n",
    "plt.xlabel('Tree Depth')\n",
    "plt.ylabel('F1-score')\n",
    "plt.legend()\n",
    "plt.show()\n",
    "\n",
    "plt.figure(figsize = (12,6))\n",
    "plt.plot(max_depths, accuracy_results,'r', label = 'accuracy')\n",
    "plt.xlabel('Tree Depth')\n",
    "plt.ylabel('Accuracy')\n",
    "plt.legend()\n",
    "plt.show()"
   ]
  },
  {
   "cell_type": "markdown",
   "metadata": {},
   "source": [
    "The accuracy is maximized when `max_depth` is between 12 and 15. "
   ]
  },
  {
   "cell_type": "markdown",
   "metadata": {},
   "source": [
    "#### `min_samples_split`"
   ]
  },
  {
   "cell_type": "code",
   "execution_count": 214,
   "metadata": {
    "ExecuteTime": {
     "end_time": "2019-10-29T04:21:27.116436Z",
     "start_time": "2019-10-29T04:21:07.695122Z"
    },
    "scrolled": false
   },
   "outputs": [
    {
     "data": {
      "image/png": "[encoded data removed]",
      "text/plain": [
       "<Figure size 864x432 with 1 Axes>"
      ]
     },
     "metadata": {},
     "output_type": "display_data"
    },
    {
     "data": {
      "image/png": "[encoded data removed]",
      "text/plain": [
       "<Figure size 864x432 with 1 Axes>"
      ]
     },
     "metadata": {},
     "output_type": "display_data"
    }
   ],
   "source": [
    "min_samples_splits =np.arange(2,11)\n",
    "accuracy_results = []\n",
    "f1_results = []\n",
    "\n",
    "for min_samples_split in min_samples_splits:\n",
    "    forest = RandomForestClassifier( min_samples_split = min_samples_split, n_estimators =100,random_state=123)\n",
    "    forest.fit(scaled_X_train, y_train)\n",
    "    y_pred = forest.predict(scaled_X_test)\n",
    "    accuracy = accuracy_score(y_test, y_pred)\n",
    "    f1 = f1_score(y_test, y_pred)\n",
    "    f1_results.append(f1)\n",
    "    accuracy_results.append(accuracy)\n",
    "    \n",
    "plt.figure(figsize =(12,6))\n",
    "plt.plot(min_samples_splits, f1_results,'b', label='f1')\n",
    "plt.xlabel('min_sample_splits')\n",
    "plt.ylabel('F1-score')\n",
    "plt.legend()\n",
    "plt.show()\n",
    "\n",
    "plt.figure(figsize = (12,6))\n",
    "plt.plot(min_samples_splits, accuracy_results,'r', label = 'accuracy')\n",
    "plt.xlabel('min_samples_split')\n",
    "plt.ylabel('Accuracy')\n",
    "plt.legend()\n",
    "plt.show()"
   ]
  },
  {
   "cell_type": "markdown",
   "metadata": {},
   "source": [
    "From the graphs above, the F1 score fluctuates and the accuracy score keeps increasing as `min_samples_split`. So we plot little further. "
   ]
  },
  {
   "cell_type": "code",
   "execution_count": 215,
   "metadata": {
    "ExecuteTime": {
     "end_time": "2019-10-29T04:25:46.063078Z",
     "start_time": "2019-10-29T04:25:35.452518Z"
    },
    "scrolled": false
   },
   "outputs": [
    {
     "data": {
      "image/png": "[encoded data removed]",
      "text/plain": [
       "<Figure size 864x432 with 1 Axes>"
      ]
     },
     "metadata": {},
     "output_type": "display_data"
    },
    {
     "data": {
      "image/png": "[encoded data removed]",
      "text/plain": [
       "<Figure size 864x432 with 1 Axes>"
      ]
     },
     "metadata": {},
     "output_type": "display_data"
    }
   ],
   "source": [
    "min_samples_splits =np.arange(10, 15)\n",
    "accuracy_results = []\n",
    "f1_results = []\n",
    "\n",
    "for min_samples_split in min_samples_splits:\n",
    "    forest = RandomForestClassifier( min_samples_split = min_samples_split, n_estimators =100,random_state=123)\n",
    "    forest.fit(scaled_X_train, y_train)\n",
    "    y_pred = forest.predict(scaled_X_test)\n",
    "    accuracy = accuracy_score(y_test, y_pred)\n",
    "    f1 = f1_score(y_test, y_pred)\n",
    "    f1_results.append(f1)\n",
    "    accuracy_results.append(accuracy)\n",
    "    \n",
    "plt.figure(figsize =(12,6))\n",
    "plt.plot(min_samples_splits, f1_results,'b', label='f1')\n",
    "plt.xlabel('min_samples_split')\n",
    "plt.ylabel('F1-score')\n",
    "plt.legend()\n",
    "plt.show()\n",
    "\n",
    "plt.figure(figsize = (12,6))\n",
    "plt.plot(min_samples_splits, accuracy_results,'r', label = 'accuracy')\n",
    "plt.xlabel('min_samples_split')\n",
    "plt.ylabel('Accuracy')\n",
    "plt.legend()\n",
    "plt.show()"
   ]
  },
  {
   "cell_type": "markdown",
   "metadata": {},
   "source": [
    "We see that the scores are at the peak when `min_samples_split` is 7,8, and 11. "
   ]
  },
  {
   "cell_type": "markdown",
   "metadata": {},
   "source": [
    "#### `min_samples_leaf`"
   ]
  },
  {
   "cell_type": "code",
   "execution_count": 216,
   "metadata": {
    "ExecuteTime": {
     "end_time": "2019-10-29T04:26:18.188368Z",
     "start_time": "2019-10-29T04:26:05.806386Z"
    },
    "scrolled": false
   },
   "outputs": [
    {
     "data": {
      "image/png": "[encoded data removed]",
      "text/plain": [
       "<Figure size 864x432 with 1 Axes>"
      ]
     },
     "metadata": {},
     "output_type": "display_data"
    },
    {
     "data": {
      "image/png": "[encoded data removed]",
      "text/plain": [
       "<Figure size 864x432 with 1 Axes>"
      ]
     },
     "metadata": {},
     "output_type": "display_data"
    }
   ],
   "source": [
    "min_samples_leafs =np.arange(1,7)\n",
    "accuracy_results = []\n",
    "f1_results = []\n",
    "\n",
    "for min_samples_leaf in min_samples_leafs:\n",
    "    forest = RandomForestClassifier(min_samples_leaf = min_samples_leaf, n_estimators =100,random_state=123)\n",
    "    forest.fit(scaled_X_train, y_train)\n",
    "    y_pred = forest.predict(scaled_X_test)\n",
    "    accuracy = accuracy_score(y_test, y_pred)\n",
    "    f1 = f1_score(y_test, y_pred)\n",
    "    f1_results.append(f1)\n",
    "    accuracy_results.append(accuracy)\n",
    "    \n",
    "plt.figure(figsize =(12,6))\n",
    "plt.plot(min_samples_leafs, f1_results,'b', label='f1')\n",
    "plt.xlabel('min_samples_leaf')\n",
    "plt.ylabel('F1-score')\n",
    "plt.legend()\n",
    "plt.show()\n",
    "\n",
    "plt.figure(figsize = (12,6))\n",
    "plt.plot(min_samples_leafs, accuracy_results,'r', label = 'accuracy')\n",
    "plt.xlabel('min_samples_leaf')\n",
    "plt.ylabel('Accuracy')\n",
    "plt.legend()\n",
    "plt.show()"
   ]
  },
  {
   "cell_type": "markdown",
   "metadata": {},
   "source": [
    "It is obvious that the accuracy and the F1 scores are maximized when `min_samples_leaf` is 2."
   ]
  },
  {
   "cell_type": "markdown",
   "metadata": {},
   "source": [
    "#### The baseline cross validation result  for the random forest model"
   ]
  },
  {
   "cell_type": "code",
   "execution_count": 217,
   "metadata": {
    "ExecuteTime": {
     "end_time": "2019-10-29T04:28:23.461053Z",
     "start_time": "2019-10-29T04:28:22.902546Z"
    },
    "scrolled": true
   },
   "outputs": [
    {
     "name": "stderr",
     "output_type": "stream",
     "text": [
      "C:\\Users\\woogu\\Anaconda3\\lib\\site-packages\\sklearn\\ensemble\\forest.py:246: FutureWarning: The default value of n_estimators will change from 10 in version 0.20 to 100 in 0.22.\n",
      "  \"10 in version 0.20 to 100 in 0.22.\", FutureWarning)\n",
      "C:\\Users\\woogu\\Anaconda3\\lib\\site-packages\\sklearn\\ensemble\\forest.py:246: FutureWarning: The default value of n_estimators will change from 10 in version 0.20 to 100 in 0.22.\n",
      "  \"10 in version 0.20 to 100 in 0.22.\", FutureWarning)\n"
     ]
    },
    {
     "name": "stdout",
     "output_type": "stream",
     "text": [
      "Mean Cross Validation Score for Random Forest Classifier:88.89%\n"
     ]
    },
    {
     "name": "stderr",
     "output_type": "stream",
     "text": [
      "C:\\Users\\woogu\\Anaconda3\\lib\\site-packages\\sklearn\\ensemble\\forest.py:246: FutureWarning: The default value of n_estimators will change from 10 in version 0.20 to 100 in 0.22.\n",
      "  \"10 in version 0.20 to 100 in 0.22.\", FutureWarning)\n"
     ]
    }
   ],
   "source": [
    "rf_clf = RandomForestClassifier()\n",
    "mean_rf_cv_score = np.mean(cross_val_score(rf_clf, scaled_X_train, y_train, cv=3))\n",
    "print(\"Mean Cross Validation Score for Random Forest Classifier:{:.4}%\".format(mean_rf_cv_score*100))"
   ]
  },
  {
   "cell_type": "markdown",
   "metadata": {},
   "source": [
    "#### Grid search cross validation"
   ]
  },
  {
   "cell_type": "markdown",
   "metadata": {},
   "source": [
    "We make a dictionary of hyper-parameters that yield the maximum accuracy and check what combination of those values maximize the scores. "
   ]
  },
  {
   "cell_type": "code",
   "execution_count": 219,
   "metadata": {
    "ExecuteTime": {
     "end_time": "2019-10-29T04:29:28.212942Z",
     "start_time": "2019-10-29T04:29:28.208953Z"
    }
   },
   "outputs": [],
   "source": [
    "rf_param_grid = {\n",
    "    'n_estimators':[50,100],\n",
    "    'criterion':['gini','entropy'],\n",
    "    'max_depth':[12,15],\n",
    "    'min_samples_split':[7,8,11],\n",
    "    'min_samples_leaf':[2]\n",
    "}"
   ]
  },
  {
   "cell_type": "code",
   "execution_count": 220,
   "metadata": {
    "ExecuteTime": {
     "end_time": "2019-10-29T04:30:39.097316Z",
     "start_time": "2019-10-29T04:29:30.533421Z"
    }
   },
   "outputs": [
    {
     "name": "stdout",
     "output_type": "stream",
     "text": [
      "Testing Accuracy: 90.01%\n",
      "Optimal Parameters: {'criterion': 'gini', 'max_depth': 12, 'min_samples_leaf': 2, 'min_samples_split': 11, 'n_estimators': 50}\n"
     ]
    }
   ],
   "source": [
    "rf_grid_search = GridSearchCV(rf_clf, rf_param_grid, cv =3)\n",
    "rf_grid_search.fit(scaled_X_train, y_train)\n",
    "\n",
    "print(\"Testing Accuracy: {:.4}%\".format(rf_grid_search.best_score_ * 100))\n",
    "print(\"Optimal Parameters: {}\".format(rf_grid_search.best_params_))"
   ]
  },
  {
   "cell_type": "markdown",
   "metadata": {},
   "source": [
    "#### The optimized random forest model "
   ]
  },
  {
   "cell_type": "code",
   "execution_count": 221,
   "metadata": {
    "ExecuteTime": {
     "end_time": "2019-10-29T04:34:46.028145Z",
     "start_time": "2019-10-29T04:34:46.022187Z"
    }
   },
   "outputs": [],
   "source": [
    "forest = RandomForestClassifier(criterion='gini',\n",
    "                                max_depth = 12,\n",
    "                                n_estimators =50,\n",
    "                               min_samples_leaf =2,\n",
    "                               min_samples_split=11)"
   ]
  },
  {
   "cell_type": "code",
   "execution_count": 222,
   "metadata": {
    "ExecuteTime": {
     "end_time": "2019-10-29T04:35:08.445460Z",
     "start_time": "2019-10-29T04:35:07.654389Z"
    }
   },
   "outputs": [],
   "source": [
    "forest.fit(scaled_X_train,y_train)\n",
    "train_preds_forest = forest.predict(scaled_X_train)\n",
    "test_preds_forest = forest.predict(scaled_X_test)"
   ]
  },
  {
   "cell_type": "code",
   "execution_count": 223,
   "metadata": {
    "ExecuteTime": {
     "end_time": "2019-10-29T04:35:10.893719Z",
     "start_time": "2019-10-29T04:35:10.878796Z"
    },
    "scrolled": true
   },
   "outputs": [
    {
     "name": "stdout",
     "output_type": "stream",
     "text": [
      "Precision Score: 0.8253692441355344\n",
      "Recall Score: 0.27480474399768584\n",
      "Accuracy Score: 0.9123369266129293\n",
      "F1 Score: 0.4123263888888889\n"
     ]
    }
   ],
   "source": [
    "print_metrics(y_train, train_preds_forest)"
   ]
  },
  {
   "cell_type": "code",
   "execution_count": 224,
   "metadata": {
    "ExecuteTime": {
     "end_time": "2019-10-29T04:35:18.632145Z",
     "start_time": "2019-10-29T04:35:18.622139Z"
    }
   },
   "outputs": [
    {
     "name": "stdout",
     "output_type": "stream",
     "text": [
      "Precision Score: 0.6967418546365914\n",
      "Recall Score: 0.23499577345731193\n",
      "Accuracy Score: 0.9003593279595998\n",
      "F1 Score: 0.35145385587863465\n"
     ]
    }
   ],
   "source": [
    "print_metrics(y_test, test_preds_forest)"
   ]
  },
  {
   "cell_type": "markdown",
   "metadata": {},
   "source": [
    "From the precision, recall, F1 scores, the model is over-fitting but the accuracy scores for two prediction sets are very similar which is a good sign.  "
   ]
  },
  {
   "cell_type": "markdown",
   "metadata": {},
   "source": [
    "#### Plotting feature importance "
   ]
  },
  {
   "cell_type": "code",
   "execution_count": 58,
   "metadata": {
    "ExecuteTime": {
     "end_time": "2019-10-29T01:27:45.070452Z",
     "start_time": "2019-10-29T01:27:44.590736Z"
    },
    "scrolled": true
   },
   "outputs": [
    {
     "data": {
      "image/png": "[encoded data removed]",
      "text/plain": [
       "<Figure size 576x576 with 1 Axes>"
      ]
     },
     "metadata": {
      "needs_background": "light"
     },
     "output_type": "display_data"
    }
   ],
   "source": [
    "plot_feature_importances(forest)"
   ]
  },
  {
   "cell_type": "code",
   "execution_count": 238,
   "metadata": {
    "ExecuteTime": {
     "end_time": "2019-10-29T04:47:40.839776Z",
     "start_time": "2019-10-29T04:47:40.351088Z"
    }
   },
   "outputs": [
    {
     "data": {
      "text/plain": [
       "Text(0.5, 1.0, 'Feature Importance')"
      ]
     },
     "execution_count": 238,
     "metadata": {},
     "output_type": "execute_result"
    },
    {
     "data": {
      "image/png": "[encoded data removed]",
      "text/plain": [
       "<Figure size 432x864 with 1 Axes>"
      ]
     },
     "metadata": {},
     "output_type": "display_data"
    }
   ],
   "source": [
    "plt.style.use('seaborn')\n",
    "col = [x[0] for x in pairs]\n",
    "val =[x[1]*100 for x in pairs]\n",
    "fig, ax = plt.subplots(figsize= (6,12))\n",
    "plt.barh(col, val, align='center',height=0.3)\n",
    "ax.set_xlabel('Feature importance(%)',fontsize =13)\n",
    "ax.set_ylabel('Feature', fontsize = 13)\n",
    "plt.setp(ax.get_xticklabels(), fontsize=13)\n",
    "plt.setp(ax.get_yticklabels(), fontsize=13)\n",
    "\n",
    "plt.title('Feature importance'.title(), fontsize=15)\n",
    "\n"
   ]
  },
  {
   "cell_type": "markdown",
   "metadata": {},
   "source": [
    "#### Plotting top 7 feature importance"
   ]
  },
  {
   "cell_type": "code",
   "execution_count": 225,
   "metadata": {
    "ExecuteTime": {
     "end_time": "2019-10-29T04:38:25.466213Z",
     "start_time": "2019-10-29T04:38:25.459229Z"
    },
    "scrolled": true
   },
   "outputs": [],
   "source": [
    "pairs = list(zip(scaled_df_train.columns,forest.feature_importances_))\n",
    "pairs.sort(key= lambda x:x[1],reverse=True)"
   ]
  },
  {
   "cell_type": "code",
   "execution_count": 237,
   "metadata": {
    "ExecuteTime": {
     "end_time": "2019-10-29T04:45:31.641048Z",
     "start_time": "2019-10-29T04:45:31.214155Z"
    }
   },
   "outputs": [
    {
     "data": {
      "image/png": "[encoded data removed]",
      "text/plain": [
       "<Figure size 432x216 with 1 Axes>"
      ]
     },
     "metadata": {},
     "output_type": "display_data"
    }
   ],
   "source": [
    "plt.style.use('seaborn')\n",
    "col = [x[0] for x in pairs[:10]]\n",
    "val =[x[1]*100 for x in pairs[:10]]\n",
    "# val =[x[1] for x in pairs]\n",
    "# sum(val[:5])\n",
    "fig, ax = plt.subplots(figsize=(6,3))\n",
    "plt.barh(col, val, align='center',height=0.3)\n",
    "ax.set_xlabel('Feature importance(%)',fontsize =13)\n",
    "ax.set_ylabel('Feature', fontsize = 13)\n",
    "\n",
    "plt.setp(ax.get_xticklabels(), fontsize=13)\n",
    "plt.setp(ax.get_yticklabels(), fontsize=13)\n",
    "\n",
    "plt.title('10 most important features'.title(), fontsize=15)\n",
    "\n",
    "fig.savefig('feature_importance.png', dpi=400, bbox_inches=\"tight\")#saving fig\n",
    "\n"
   ]
  },
  {
   "cell_type": "code",
   "execution_count": 239,
   "metadata": {
    "ExecuteTime": {
     "end_time": "2019-10-29T04:48:19.731109Z",
     "start_time": "2019-10-29T04:48:19.726123Z"
    }
   },
   "outputs": [
    {
     "data": {
      "text/plain": [
       "66.03336251882456"
      ]
     },
     "execution_count": 239,
     "metadata": {},
     "output_type": "execute_result"
    }
   ],
   "source": [
    "vals =[x[1]*100 for x in pairs[:5]]\n",
    "sum(vals)"
   ]
  },
  {
   "cell_type": "code",
   "execution_count": 240,
   "metadata": {
    "ExecuteTime": {
     "end_time": "2019-10-29T04:53:11.314952Z",
     "start_time": "2019-10-29T04:53:11.310997Z"
    }
   },
   "outputs": [
    {
     "data": {
      "text/plain": [
       "73.91196311579328"
      ]
     },
     "execution_count": 240,
     "metadata": {},
     "output_type": "execute_result"
    }
   ],
   "source": [
    "vals =[x[1]*100 for x in pairs[:7]]\n",
    "sum(vals)"
   ]
  },
  {
   "cell_type": "code",
   "execution_count": 227,
   "metadata": {
    "ExecuteTime": {
     "end_time": "2019-10-29T04:39:15.057950Z",
     "start_time": "2019-10-29T04:39:15.054958Z"
    }
   },
   "outputs": [
    {
     "data": {
      "text/plain": [
       "66.03336251882456"
      ]
     },
     "execution_count": 227,
     "metadata": {},
     "output_type": "execute_result"
    }
   ],
   "source": [
    "sum(val)"
   ]
  },
  {
   "cell_type": "code",
   "execution_count": 241,
   "metadata": {
    "ExecuteTime": {
     "end_time": "2019-10-29T05:03:18.992011Z",
     "start_time": "2019-10-29T05:03:18.987032Z"
    }
   },
   "outputs": [],
   "source": [
    "rand_forest_optimized = result({'criterion': 'gini',\n",
    "                                'max_depth': 12,\n",
    "                                'min_samples_leaf': 2,\n",
    "                                'min_samples_split': 11,\n",
    "                                'n_estimators': 50},\n",
    "                              {'train_preds':train_preds_forest,\n",
    "                              'test_preds':test_preds_forest},\n",
    "                              )\n",
    "rand_forest_optimized.data = {'scaled_X_train':scaled_X_train,\n",
    "                             'scaled_X_test':scaled_X_test}\n"
   ]
  },
  {
   "cell_type": "code",
   "execution_count": 242,
   "metadata": {
    "ExecuteTime": {
     "end_time": "2019-10-29T05:03:20.554118Z",
     "start_time": "2019-10-29T05:03:20.550161Z"
    }
   },
   "outputs": [],
   "source": [
    "Results['rand_forest_optimized'] = rand_forest_optimized"
   ]
  },
  {
   "cell_type": "code",
   "execution_count": 243,
   "metadata": {
    "ExecuteTime": {
     "end_time": "2019-10-29T05:03:22.600987Z",
     "start_time": "2019-10-29T05:03:22.597999Z"
    }
   },
   "outputs": [
    {
     "data": {
      "text/plain": [
       "dict_keys(['data_preprocessed', 'KNN_optimized', 'PCA', 'KNN_PCA', 'rand_forest_optimized'])"
      ]
     },
     "execution_count": 243,
     "metadata": {},
     "output_type": "execute_result"
    }
   ],
   "source": [
    "Results.keys()"
   ]
  },
  {
   "cell_type": "markdown",
   "metadata": {},
   "source": [
    "#### Interpreting features"
   ]
  },
  {
   "cell_type": "code",
   "execution_count": 260,
   "metadata": {
    "ExecuteTime": {
     "end_time": "2019-10-29T06:17:19.481120Z",
     "start_time": "2019-10-29T06:17:19.304564Z"
    },
    "scrolled": true
   },
   "outputs": [
    {
     "data": {
      "text/plain": [
       "age                              0.030399\n",
       "campaign                        -0.066357\n",
       "previous                         0.230181\n",
       "cons_price_idx                  -0.136211\n",
       "cons_conf_idx                    0.054878\n",
       "euribor3m                       -0.307771\n",
       "job_blue-collar                 -0.074423\n",
       "job_entrepreneur                -0.016644\n",
       "job_housemaid                   -0.006505\n",
       "job_management                  -0.000419\n",
       "job_retired                      0.092221\n",
       "job_self-employed               -0.004663\n",
       "job_services                    -0.032301\n",
       "job_student                      0.093955\n",
       "job_technician                  -0.006149\n",
       "job_unemployed                   0.014752\n",
       "job_unknown                     -0.000151\n",
       "marital_married                 -0.043398\n",
       "marital_unknown                  0.005211\n",
       "education_basic.6y              -0.023517\n",
       "education_basic.9y              -0.045135\n",
       "education_high.school           -0.007452\n",
       "education_illiterate             0.007246\n",
       "education_professional.course    0.001003\n",
       "education_university.degree      0.050364\n",
       "education_unknown                0.021430\n",
       "default_unknown                 -0.099293\n",
       "default_yes                     -0.003041\n",
       "housing_yes                      0.011743\n",
       "loan_unknown                    -0.002270\n",
       "loan_yes                        -0.004466\n",
       "contact_telephone               -0.144773\n",
       "month_aug                       -0.008813\n",
       "month_dec                        0.079303\n",
       "month_jul                       -0.032230\n",
       "month_jun                       -0.009182\n",
       "month_mar                        0.144014\n",
       "month_may                       -0.108271\n",
       "month_nov                       -0.011796\n",
       "month_oct                        0.137366\n",
       "month_sep                        0.126067\n",
       "day_of_week_mon                 -0.021265\n",
       "day_of_week_thu                  0.013888\n",
       "day_of_week_tue                  0.008046\n",
       "day_of_week_wed                  0.006302\n",
       "pdays_less_2week                 0.118509\n",
       "pdays_less_3week                 0.051457\n",
       "pdays_less_4week                 0.027513\n",
       "poutcome_success                 0.316269\n",
       "y                                1.000000\n",
       "Name: y, dtype: float64"
      ]
     },
     "execution_count": 260,
     "metadata": {},
     "output_type": "execute_result"
    }
   ],
   "source": [
    "pd.concat([features, target], axis=1).corr().y"
   ]
  },
  {
   "cell_type": "code",
   "execution_count": null,
   "metadata": {},
   "outputs": [],
   "source": []
  },
  {
   "cell_type": "code",
   "execution_count": 251,
   "metadata": {
    "ExecuteTime": {
     "end_time": "2019-10-29T05:13:54.648779Z",
     "start_time": "2019-10-29T05:13:54.510148Z"
    },
    "scrolled": true
   },
   "outputs": [
    {
     "data": {
      "image/png": "[encoded data removed]",
      "text/plain": [
       "<Figure size 864x360 with 1 Axes>"
      ]
     },
     "metadata": {},
     "output_type": "display_data"
    }
   ],
   "source": [
    "rate_by_y=[]\n",
    "for answer in df.y.unique():\n",
    "    rate_by_y.append(df[df.y == answer].euribor3m) \n",
    "fig = plt.figure(figsize =(12,5))\n",
    "plt.hist(rate_by_y, label =['No', 'Yes'])\n",
    "# plt.ylabel('number of orders'.title(), fontsize =15)\n",
    "# plt.xlabel('category'.title(), fontsize =15)\n",
    "# plt.rc('xtick', labelsize = 13)\n",
    "# plt.rc('ytick', labelsize = 15)\n",
    "# plt.title('Total number of orders sorted by categories'.title(), fontsize =20)\n",
    "plt.legend()\n",
    "plt.show()x"
   ]
  },
  {
   "cell_type": "markdown",
   "metadata": {},
   "source": [
    "# Comparing results for models"
   ]
  },
  {
   "cell_type": "code",
   "execution_count": 82,
   "metadata": {
    "ExecuteTime": {
     "end_time": "2020-03-27T17:29:33.585842Z",
     "start_time": "2020-03-27T17:29:33.580886Z"
    }
   },
   "outputs": [],
   "source": [
    "def generate_row(labels, preds):\n",
    "    new_row = dict()\n",
    "    new_row[\"Precision Score\"]=precision_score(labels, preds)\n",
    "    new_row[\"Recall Score\"]=recall_score(labels,preds)\n",
    "    new_row[\"Accuracy Score\"]=accuracy_score(labels, preds)\n",
    "    new_row[\"F1 Score\"]=f1_score(labels, preds)\n",
    "    return new_row"
   ]
  },
  {
   "cell_type": "code",
   "execution_count": 191,
   "metadata": {
    "ExecuteTime": {
     "end_time": "2020-03-27T21:34:16.039210Z",
     "start_time": "2020-03-27T21:34:16.032229Z"
    }
   },
   "outputs": [],
   "source": [
    "Model_Results_train = pd.DataFrame(columns=['Precision Score','Recall Score','Accuracy Score', 'F1 Score'])\n",
    "Model_Results_test = pd.DataFrame(columns=['Precision Score','Recall Score','Accuracy Score', 'F1 Score'])"
   ]
  },
  {
   "cell_type": "code",
   "execution_count": 192,
   "metadata": {
    "ExecuteTime": {
     "end_time": "2020-03-27T21:34:16.397047Z",
     "start_time": "2020-03-27T21:34:16.313240Z"
    }
   },
   "outputs": [
    {
     "name": "stdout",
     "output_type": "stream",
     "text": [
      "['KNN_optimized']\n",
      "['KNN_optimized', 'KNN_PCA']\n",
      "['KNN_optimized', 'KNN_PCA', 'rand_forest_optimized']\n"
     ]
    }
   ],
   "source": [
    "indexes = []\n",
    "for i, name in enumerate(Results.keys()):\n",
    "    if i in [1,3,4]:\n",
    "        indexes.append(name)\n",
    "        print(indexes)\n",
    "        a = generate_row(y_train,Results[name].preds['train_preds'])\n",
    "        b = generate_row(y_test,Results[name].preds['test_preds'])\n",
    "        Model_Results_train= Model_Results_train.append(a, ignore_index=True)\n",
    "        Model_Results_test= Model_Results_test.append(b, ignore_index=True)\n"
   ]
  },
  {
   "cell_type": "code",
   "execution_count": 193,
   "metadata": {
    "ExecuteTime": {
     "end_time": "2020-03-27T21:34:18.157549Z",
     "start_time": "2020-03-27T21:34:18.153560Z"
    },
    "scrolled": true
   },
   "outputs": [],
   "source": [
    "indexes[2]='RandomForest_optimized'"
   ]
  },
  {
   "cell_type": "code",
   "execution_count": 194,
   "metadata": {
    "ExecuteTime": {
     "end_time": "2020-03-27T21:34:19.900884Z",
     "start_time": "2020-03-27T21:34:19.893933Z"
    }
   },
   "outputs": [
    {
     "data": {
      "text/html": [
       "<div>\n",
       "<style scoped>\n",
       "    .dataframe tbody tr th:only-of-type {\n",
       "        vertical-align: middle;\n",
       "    }\n",
       "\n",
       "    .dataframe tbody tr th {\n",
       "        vertical-align: top;\n",
       "    }\n",
       "\n",
       "    .dataframe thead th {\n",
       "        text-align: right;\n",
       "    }\n",
       "</style>\n",
       "<table border=\"1\" class=\"dataframe\">\n",
       "  <thead>\n",
       "    <tr style=\"text-align: right;\">\n",
       "      <th></th>\n",
       "      <th>Precision Score</th>\n",
       "      <th>Recall Score</th>\n",
       "      <th>Accuracy Score</th>\n",
       "      <th>F1 Score</th>\n",
       "    </tr>\n",
       "  </thead>\n",
       "  <tbody>\n",
       "    <tr>\n",
       "      <td>KNN_optimized</td>\n",
       "      <td>0.750357</td>\n",
       "      <td>0.455597</td>\n",
       "      <td>0.922113</td>\n",
       "      <td>0.566955</td>\n",
       "    </tr>\n",
       "    <tr>\n",
       "      <td>KNN_PCA</td>\n",
       "      <td>0.752820</td>\n",
       "      <td>0.444027</td>\n",
       "      <td>0.921466</td>\n",
       "      <td>0.558588</td>\n",
       "    </tr>\n",
       "    <tr>\n",
       "      <td>RandomForest_optimized</td>\n",
       "      <td>0.825369</td>\n",
       "      <td>0.274805</td>\n",
       "      <td>0.912337</td>\n",
       "      <td>0.412326</td>\n",
       "    </tr>\n",
       "  </tbody>\n",
       "</table>\n",
       "</div>"
      ],
      "text/plain": [
       "                        Precision Score  Recall Score  Accuracy Score  \\\n",
       "KNN_optimized                  0.750357      0.455597        0.922113   \n",
       "KNN_PCA                        0.752820      0.444027        0.921466   \n",
       "RandomForest_optimized         0.825369      0.274805        0.912337   \n",
       "\n",
       "                        F1 Score  \n",
       "KNN_optimized           0.566955  \n",
       "KNN_PCA                 0.558588  \n",
       "RandomForest_optimized  0.412326  "
      ]
     },
     "execution_count": 194,
     "metadata": {},
     "output_type": "execute_result"
    }
   ],
   "source": [
    "Model_Results_train.index = indexes\n",
    "Model_Results_test.index = indexes\n",
    "Model_Results_train"
   ]
  },
  {
   "cell_type": "code",
   "execution_count": 195,
   "metadata": {
    "ExecuteTime": {
     "end_time": "2020-03-27T21:34:20.312000Z",
     "start_time": "2020-03-27T21:34:20.305018Z"
    }
   },
   "outputs": [
    {
     "data": {
      "text/html": [
       "<div>\n",
       "<style scoped>\n",
       "    .dataframe tbody tr th:only-of-type {\n",
       "        vertical-align: middle;\n",
       "    }\n",
       "\n",
       "    .dataframe tbody tr th {\n",
       "        vertical-align: top;\n",
       "    }\n",
       "\n",
       "    .dataframe thead th {\n",
       "        text-align: right;\n",
       "    }\n",
       "</style>\n",
       "<table border=\"1\" class=\"dataframe\">\n",
       "  <thead>\n",
       "    <tr style=\"text-align: right;\">\n",
       "      <th></th>\n",
       "      <th>Precision Score</th>\n",
       "      <th>Recall Score</th>\n",
       "      <th>Accuracy Score</th>\n",
       "      <th>F1 Score</th>\n",
       "    </tr>\n",
       "  </thead>\n",
       "  <tbody>\n",
       "    <tr>\n",
       "      <td>KNN_optimized</td>\n",
       "      <td>0.460563</td>\n",
       "      <td>0.276416</td>\n",
       "      <td>0.879674</td>\n",
       "      <td>0.345483</td>\n",
       "    </tr>\n",
       "    <tr>\n",
       "      <td>KNN_PCA</td>\n",
       "      <td>0.436681</td>\n",
       "      <td>0.253593</td>\n",
       "      <td>0.876663</td>\n",
       "      <td>0.320856</td>\n",
       "    </tr>\n",
       "    <tr>\n",
       "      <td>RandomForest_optimized</td>\n",
       "      <td>0.696742</td>\n",
       "      <td>0.234996</td>\n",
       "      <td>0.900359</td>\n",
       "      <td>0.351454</td>\n",
       "    </tr>\n",
       "  </tbody>\n",
       "</table>\n",
       "</div>"
      ],
      "text/plain": [
       "                        Precision Score  Recall Score  Accuracy Score  \\\n",
       "KNN_optimized                  0.460563      0.276416        0.879674   \n",
       "KNN_PCA                        0.436681      0.253593        0.876663   \n",
       "RandomForest_optimized         0.696742      0.234996        0.900359   \n",
       "\n",
       "                        F1 Score  \n",
       "KNN_optimized           0.345483  \n",
       "KNN_PCA                 0.320856  \n",
       "RandomForest_optimized  0.351454  "
      ]
     },
     "execution_count": 195,
     "metadata": {},
     "output_type": "execute_result"
    }
   ],
   "source": [
    "Model_Results_test"
   ]
  },
  {
   "cell_type": "code",
   "execution_count": 187,
   "metadata": {
    "ExecuteTime": {
     "end_time": "2020-03-27T21:27:58.262131Z",
     "start_time": "2020-03-27T21:27:57.977867Z"
    }
   },
   "outputs": [
    {
     "data": {
      "image/png": "[encoded data removed]",
      "text/plain": [
       "<Figure size 432x432 with 2 Axes>"
      ]
     },
     "metadata": {
      "needs_background": "light"
     },
     "output_type": "display_data"
    }
   ],
   "source": [
    "fig, axes = plt.subplots(nrows=1, ncols=2, figsize=(15,10), sharey= True)\n",
    "Model_Results_train.plot(kind='bar',figsize=[6,6], ax = axes[0])\n",
    "axes[0].set_title('Training Data')\n",
    "axes[0].set_yticks([0.05*x for x in range(20)])\n",
    "axes[0].legend(bbox_to_anchor=(1.2,0.7), loc=\"lower right\",  bbox_transform=fig.transFigure)\n",
    "\n",
    "Model_Results_test.plot(kind='bar',figsize=[6,6], ax = axes[1])\n",
    "axes[1].set_title('Testing Data')\n",
    "axes[1].get_legend().remove()\n",
    "plt.suptitle('Evaluation scores comparisons by models'.title())\n",
    "for i in range(2):\n",
    "    for tick in axes[i].get_xticklabels():\n",
    "            tick.set_rotation(45)\n",
    "\n"
   ]
  },
  {
   "cell_type": "markdown",
   "metadata": {},
   "source": [
    "Overall, the random forest model performed the best and it also provides the feature importance rankings that are very useful for interpretation."
   ]
  }
 ],
 "metadata": {
  "kernelspec": {
   "display_name": "Python 3",
   "language": "python",
   "name": "python3"
  },
  "language_info": {
   "codemirror_mode": {
    "name": "ipython",
    "version": 3
   },
   "file_extension": ".py",
   "mimetype": "text/x-python",
   "name": "python",
   "nbconvert_exporter": "python",
   "pygments_lexer": "ipython3",
   "version": "3.7.4"
  },
  "toc": {
   "base_numbering": 1,
   "nav_menu": {},
   "number_sections": true,
   "sideBar": true,
   "skip_h1_title": false,
   "title_cell": "Table of Contents",
   "title_sidebar": "Contents",
   "toc_cell": false,
   "toc_position": {
    "height": "calc(100% - 180px)",
    "left": "10px",
    "top": "150px",
    "width": "313.896px"
   },
   "toc_section_display": true,
   "toc_window_display": true
  },
  "varInspector": {
   "cols": {
    "lenName": 16,
    "lenType": 16,
    "lenVar": 40
   },
   "kernels_config": {
    "python": {
     "delete_cmd_postfix": "",
     "delete_cmd_prefix": "del ",
     "library": "var_list.py",
     "varRefreshCmd": "print(var_dic_list())"
    },
    "r": {
     "delete_cmd_postfix": ") ",
     "delete_cmd_prefix": "rm(",
     "library": "var_list.r",
     "varRefreshCmd": "cat(var_dic_list()) "
    }
   },
   "types_to_exclude": [
    "module",
    "function",
    "builtin_function_or_method",
    "instance",
    "_Feature"
   ],
   "window_display": false
  }
 },
 "nbformat": 4,
 "nbformat_minor": 2
}
